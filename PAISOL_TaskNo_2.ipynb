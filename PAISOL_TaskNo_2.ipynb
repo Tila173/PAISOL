{
 "cells": [
  {
   "cell_type": "code",
   "execution_count": 1,
   "metadata": {
    "_cell_guid": "b1076dfc-b9ad-4769-8c92-a6c4dae69d19",
    "_uuid": "8f2839f25d086af736a60e9eeb907d3b93b6e0e5",
    "execution": {
     "iopub.execute_input": "2024-05-08T04:55:56.333698Z",
     "iopub.status.busy": "2024-05-08T04:55:56.333283Z",
     "iopub.status.idle": "2024-05-08T04:55:56.385139Z",
     "shell.execute_reply": "2024-05-08T04:55:56.384002Z",
     "shell.execute_reply.started": "2024-05-08T04:55:56.333666Z"
    }
   },
   "outputs": [
    {
     "name": "stdout",
     "output_type": "stream",
     "text": [
      "/kaggle/input/book-recommendation-dataset/Ratings.csv\n",
      "/kaggle/input/book-recommendation-dataset/Users.csv\n",
      "/kaggle/input/book-recommendation-dataset/classicRec.png\n",
      "/kaggle/input/book-recommendation-dataset/Books.csv\n",
      "/kaggle/input/book-recommendation-dataset/DeepRec.png\n",
      "/kaggle/input/book-recommendation-dataset/recsys_taxonomy2.png\n"
     ]
    }
   ],
   "source": [
    "# For example, running this (by clicking run or pressing Shift+Enter) will list all files under the input directory\n",
    "\n",
    "import os\n",
    "for dirname, _, filenames in os.walk('/kaggle/input'):\n",
    "    for filename in filenames:\n",
    "        print(os.path.join(dirname, filename))\n",
    "\n",
    "# You can write up to 20GB to the current directory (/kaggle/working/) that gets preserved as output when you create a version using \"Save & Run All\" \n",
    "# You can also write temporary files to /kaggle/temp/, but they won't be saved outside of the current session"
   ]
  },
  {
   "cell_type": "markdown",
   "metadata": {},
   "source": [
    "##### Importing necessary libraries"
   ]
  },
  {
   "cell_type": "code",
   "execution_count": 2,
   "metadata": {
    "execution": {
     "iopub.execute_input": "2024-05-08T04:57:00.200790Z",
     "iopub.status.busy": "2024-05-08T04:57:00.200376Z",
     "iopub.status.idle": "2024-05-08T04:57:01.676487Z",
     "shell.execute_reply": "2024-05-08T04:57:01.675272Z",
     "shell.execute_reply.started": "2024-05-08T04:57:00.200757Z"
    }
   },
   "outputs": [],
   "source": [
    "import pandas as pd\n",
    "import numpy as np\n",
    "import seaborn as sns\n",
    "import matplotlib.pyplot as plt\n",
    "from sklearn.metrics.pairwise import cosine_similarity\n",
    "from texttable import Texttable"
   ]
  },
  {
   "cell_type": "markdown",
   "metadata": {},
   "source": [
    "##### Datasets Loading"
   ]
  },
  {
   "cell_type": "code",
   "execution_count": 3,
   "metadata": {
    "execution": {
     "iopub.execute_input": "2024-05-08T04:58:31.606327Z",
     "iopub.status.busy": "2024-05-08T04:58:31.605735Z",
     "iopub.status.idle": "2024-05-08T04:58:36.191061Z",
     "shell.execute_reply": "2024-05-08T04:58:36.189910Z",
     "shell.execute_reply.started": "2024-05-08T04:58:31.606288Z"
    }
   },
   "outputs": [
    {
     "name": "stderr",
     "output_type": "stream",
     "text": [
      "/tmp/ipykernel_34/2910231406.py:1: DtypeWarning: Columns (3) have mixed types. Specify dtype option on import or set low_memory=False.\n",
      "  books = pd.read_csv('/kaggle/input/book-recommendation-dataset/Books.csv')\n"
     ]
    }
   ],
   "source": [
    "books = pd.read_csv('/kaggle/input/book-recommendation-dataset/Books.csv')\n",
    "users = pd.read_csv('/kaggle/input/book-recommendation-dataset/Users.csv')\n",
    "ratings = pd.read_csv('/kaggle/input/book-recommendation-dataset/Ratings.csv')"
   ]
  },
  {
   "cell_type": "markdown",
   "metadata": {},
   "source": [
    "##### Displaying the first few rows of each dataset"
   ]
  },
  {
   "cell_type": "code",
   "execution_count": 4,
   "metadata": {
    "execution": {
     "iopub.execute_input": "2024-05-08T04:59:28.592536Z",
     "iopub.status.busy": "2024-05-08T04:59:28.591822Z",
     "iopub.status.idle": "2024-05-08T04:59:28.632333Z",
     "shell.execute_reply": "2024-05-08T04:59:28.630392Z",
     "shell.execute_reply.started": "2024-05-08T04:59:28.592474Z"
    }
   },
   "outputs": [
    {
     "name": "stdout",
     "output_type": "stream",
     "text": [
      "Books Data:\n",
      "         ISBN                                         Book-Title  \\\n",
      "0  0195153448                                Classical Mythology   \n",
      "1  0002005018                                       Clara Callan   \n",
      "2  0060973129                               Decision in Normandy   \n",
      "3  0374157065  Flu: The Story of the Great Influenza Pandemic...   \n",
      "4  0393045218                             The Mummies of Urumchi   \n",
      "\n",
      "            Book-Author Year-Of-Publication                   Publisher  \\\n",
      "0    Mark P. O. Morford                2002     Oxford University Press   \n",
      "1  Richard Bruce Wright                2001       HarperFlamingo Canada   \n",
      "2          Carlo D'Este                1991             HarperPerennial   \n",
      "3      Gina Bari Kolata                1999        Farrar Straus Giroux   \n",
      "4       E. J. W. Barber                1999  W. W. Norton &amp; Company   \n",
      "\n",
      "                                         Image-URL-S  \\\n",
      "0  http://images.amazon.com/images/P/0195153448.0...   \n",
      "1  http://images.amazon.com/images/P/0002005018.0...   \n",
      "2  http://images.amazon.com/images/P/0060973129.0...   \n",
      "3  http://images.amazon.com/images/P/0374157065.0...   \n",
      "4  http://images.amazon.com/images/P/0393045218.0...   \n",
      "\n",
      "                                         Image-URL-M  \\\n",
      "0  http://images.amazon.com/images/P/0195153448.0...   \n",
      "1  http://images.amazon.com/images/P/0002005018.0...   \n",
      "2  http://images.amazon.com/images/P/0060973129.0...   \n",
      "3  http://images.amazon.com/images/P/0374157065.0...   \n",
      "4  http://images.amazon.com/images/P/0393045218.0...   \n",
      "\n",
      "                                         Image-URL-L  \n",
      "0  http://images.amazon.com/images/P/0195153448.0...  \n",
      "1  http://images.amazon.com/images/P/0002005018.0...  \n",
      "2  http://images.amazon.com/images/P/0060973129.0...  \n",
      "3  http://images.amazon.com/images/P/0374157065.0...  \n",
      "4  http://images.amazon.com/images/P/0393045218.0...  \n",
      "\n",
      "Users Data:\n",
      "   User-ID                            Location   Age\n",
      "0        1                  nyc, new york, usa   NaN\n",
      "1        2           stockton, california, usa  18.0\n",
      "2        3     moscow, yukon territory, russia   NaN\n",
      "3        4           porto, v.n.gaia, portugal  17.0\n",
      "4        5  farnborough, hants, united kingdom   NaN\n",
      "\n",
      "Ratings Data:\n",
      "   User-ID        ISBN  Book-Rating\n",
      "0   276725  034545104X            0\n",
      "1   276726  0155061224            5\n",
      "2   276727  0446520802            0\n",
      "3   276729  052165615X            3\n",
      "4   276729  0521795028            6\n"
     ]
    }
   ],
   "source": [
    "print(\"Books Data:\")\n",
    "print(books.head())\n",
    "print(\"\\nUsers Data:\")\n",
    "print(users.head())\n",
    "print(\"\\nRatings Data:\")\n",
    "print(ratings.head())"
   ]
  },
  {
   "cell_type": "markdown",
   "metadata": {},
   "source": [
    "##### Checking the shape of the datasets"
   ]
  },
  {
   "cell_type": "code",
   "execution_count": 5,
   "metadata": {
    "execution": {
     "iopub.execute_input": "2024-05-08T05:00:00.118883Z",
     "iopub.status.busy": "2024-05-08T05:00:00.118472Z",
     "iopub.status.idle": "2024-05-08T05:00:00.126642Z",
     "shell.execute_reply": "2024-05-08T05:00:00.125301Z",
     "shell.execute_reply.started": "2024-05-08T05:00:00.118848Z"
    }
   },
   "outputs": [
    {
     "name": "stdout",
     "output_type": "stream",
     "text": [
      "\n",
      "Dataset Shapes:\n",
      "Users: (278858, 3)\n",
      "Books: (271360, 8)\n",
      "Ratings: (1149780, 3)\n"
     ]
    }
   ],
   "source": [
    "print(\"\\nDataset Shapes:\")\n",
    "print(f\"Users: {users.shape}\")\n",
    "print(f\"Books: {books.shape}\")\n",
    "print(f\"Ratings: {ratings.shape}\")"
   ]
  },
  {
   "cell_type": "markdown",
   "metadata": {},
   "source": [
    "##### Checking for missing values"
   ]
  },
  {
   "cell_type": "code",
   "execution_count": 6,
   "metadata": {
    "execution": {
     "iopub.execute_input": "2024-05-08T05:00:29.155382Z",
     "iopub.status.busy": "2024-05-08T05:00:29.154942Z",
     "iopub.status.idle": "2024-05-08T05:00:29.609558Z",
     "shell.execute_reply": "2024-05-08T05:00:29.608107Z",
     "shell.execute_reply.started": "2024-05-08T05:00:29.155347Z"
    }
   },
   "outputs": [
    {
     "name": "stdout",
     "output_type": "stream",
     "text": [
      "\n",
      "Missing Values:\n",
      "Books Missing Values:\n",
      "ISBN                   0\n",
      "Book-Title             0\n",
      "Book-Author            2\n",
      "Year-Of-Publication    0\n",
      "Publisher              2\n",
      "Image-URL-S            0\n",
      "Image-URL-M            0\n",
      "Image-URL-L            3\n",
      "dtype: int64\n",
      "Users Missing Values:\n",
      "User-ID          0\n",
      "Location         0\n",
      "Age         110762\n",
      "dtype: int64\n",
      "Ratings Missing Values:\n",
      "User-ID        0\n",
      "ISBN           0\n",
      "Book-Rating    0\n",
      "dtype: int64\n"
     ]
    }
   ],
   "source": [
    "print(\"\\nMissing Values:\")\n",
    "print(f\"Books Missing Values:\\n{books.isnull().sum()}\")\n",
    "print(f\"Users Missing Values:\\n{users.isnull().sum()}\")\n",
    "print(f\"Ratings Missing Values:\\n{ratings.isnull().sum()}\")"
   ]
  },
  {
   "cell_type": "markdown",
   "metadata": {},
   "source": [
    "##### Checking for Duplicate values"
   ]
  },
  {
   "cell_type": "code",
   "execution_count": 8,
   "metadata": {
    "execution": {
     "iopub.execute_input": "2024-05-08T05:03:51.964662Z",
     "iopub.status.busy": "2024-05-08T05:03:51.964242Z",
     "iopub.status.idle": "2024-05-08T05:03:53.195703Z",
     "shell.execute_reply": "2024-05-08T05:03:53.194748Z",
     "shell.execute_reply.started": "2024-05-08T05:03:51.964628Z"
    }
   },
   "outputs": [
    {
     "name": "stdout",
     "output_type": "stream",
     "text": [
      "\n",
      "Duplicate Values:\n",
      "Books Duplicate Values:\n",
      "0\n",
      "Users Duplicate Values:\n",
      "0\n",
      "Ratings Duplicate Values:\n",
      "0\n"
     ]
    }
   ],
   "source": [
    "print(\"\\nDuplicate Values:\")\n",
    "print(f\"Books Duplicate Values:\\n{books.duplicated().sum()}\")\n",
    "print(f\"Users Duplicate Values:\\n{users.duplicated().sum()}\")\n",
    "print(f\"Ratings Duplicate Values:\\n{ratings.duplicated().sum()}\")"
   ]
  },
  {
   "cell_type": "markdown",
   "metadata": {},
   "source": [
    "### Exploratory Data Analysis"
   ]
  },
  {
   "cell_type": "markdown",
   "metadata": {},
   "source": [
    "##### Distribution of Ratings"
   ]
  },
  {
   "cell_type": "code",
   "execution_count": 9,
   "metadata": {
    "execution": {
     "iopub.execute_input": "2024-05-08T05:05:14.398841Z",
     "iopub.status.busy": "2024-05-08T05:05:14.398425Z",
     "iopub.status.idle": "2024-05-08T05:05:14.800411Z",
     "shell.execute_reply": "2024-05-08T05:05:14.798943Z",
     "shell.execute_reply.started": "2024-05-08T05:05:14.398806Z"
    }
   },
   "outputs": [
    {
     "data": {
      "image/png": "[encoded data removed]",
      "text/plain": [
       "<Figure size 640x480 with 1 Axes>"
      ]
     },
     "metadata": {},
     "output_type": "display_data"
    }
   ],
   "source": [
    "ratings['Book-Rating'].value_counts().sort_index().plot(kind='bar')\n",
    "plt.title('Distribution of Book Ratings')\n",
    "plt.xlabel('Rating')\n",
    "plt.ylabel('Frequency')\n",
    "plt.show()"
   ]
  },
  {
   "cell_type": "markdown",
   "metadata": {},
   "source": [
    "##### Most Rated Books"
   ]
  },
  {
   "cell_type": "code",
   "execution_count": 10,
   "metadata": {
    "execution": {
     "iopub.execute_input": "2024-05-08T05:05:49.990692Z",
     "iopub.status.busy": "2024-05-08T05:05:49.990299Z",
     "iopub.status.idle": "2024-05-08T05:05:50.780512Z",
     "shell.execute_reply": "2024-05-08T05:05:50.779096Z",
     "shell.execute_reply.started": "2024-05-08T05:05:49.990663Z"
    }
   },
   "outputs": [
    {
     "name": "stdout",
     "output_type": "stream",
     "text": [
      "                                           Book-Title     Book-Author\n",
      "26                                        Wild Animus    Rich Shapero\n",
      "118                               Angels &amp; Demons       Dan Brown\n",
      "305                                   A Painted House    John Grisham\n",
      "356                           The Secret Life of Bees   Sue Monk Kidd\n",
      "408                         The Lovely Bones: A Novel    Alice Sebold\n",
      "522               The Red Tent (Bestselling Backlist)   Anita Diamant\n",
      "748                                 The Da Vinci Code       Dan Brown\n",
      "1105  Divine Secrets of the Ya-Ya Sisterhood: A Novel   Rebecca Wells\n",
      "1922                           Snow Falling on Cedars  David Guterson\n"
     ]
    }
   ],
   "source": [
    "most_rated_books = ratings['ISBN'].value_counts().head(10)\n",
    "most_rated_books_info = books[books['ISBN'].isin(most_rated_books.index)]\n",
    "print(most_rated_books_info[['Book-Title', 'Book-Author']])"
   ]
  },
  {
   "cell_type": "markdown",
   "metadata": {},
   "source": [
    "##### User Rating Behavior"
   ]
  },
  {
   "cell_type": "code",
   "execution_count": 11,
   "metadata": {
    "execution": {
     "iopub.execute_input": "2024-05-08T05:06:26.860019Z",
     "iopub.status.busy": "2024-05-08T05:06:26.858596Z",
     "iopub.status.idle": "2024-05-08T05:06:27.914021Z",
     "shell.execute_reply": "2024-05-08T05:06:27.912787Z",
     "shell.execute_reply.started": "2024-05-08T05:06:26.859966Z"
    }
   },
   "outputs": [
    {
     "name": "stderr",
     "output_type": "stream",
     "text": [
      "/opt/conda/lib/python3.10/site-packages/seaborn/_oldcore.py:1119: FutureWarning: use_inf_as_na option is deprecated and will be removed in a future version. Convert inf values to NaN before operating instead.\n",
      "  with pd.option_context('mode.use_inf_as_na', True):\n"
     ]
    },
    {
     "data": {
      "image/png": "[encoded data removed]",
      "text/plain": [
       "<Figure size 600x400 with 1 Axes>"
      ]
     },
     "metadata": {},
     "output_type": "display_data"
    }
   ],
   "source": [
    "user_rating_count = ratings['User-ID'].value_counts()\n",
    "\n",
    "# Plotting\n",
    "plt.figure(figsize=(6, 4))\n",
    "sns.histplot(user_rating_count, bins=30, color='skyblue', kde=True)\n",
    "plt.title('User Rating Behavior')\n",
    "plt.xlabel('Number of Ratings per User')\n",
    "plt.ylabel('Frequency')\n",
    "plt.grid(axis='y', linestyle='--', alpha=0.7)\n",
    "plt.show()"
   ]
  },
  {
   "cell_type": "markdown",
   "metadata": {},
   "source": [
    "##### Age Distribution of Users"
   ]
  },
  {
   "cell_type": "code",
   "execution_count": 12,
   "metadata": {
    "execution": {
     "iopub.execute_input": "2024-05-08T05:07:05.008837Z",
     "iopub.status.busy": "2024-05-08T05:07:05.008327Z",
     "iopub.status.idle": "2024-05-08T05:07:05.351440Z",
     "shell.execute_reply": "2024-05-08T05:07:05.350171Z",
     "shell.execute_reply.started": "2024-05-08T05:07:05.008801Z"
    }
   },
   "outputs": [
    {
     "data": {
      "image/png": "[encoded data removed]",
      "text/plain": [
       "<Figure size 600x400 with 1 Axes>"
      ]
     },
     "metadata": {},
     "output_type": "display_data"
    }
   ],
   "source": [
    "age_bins = [0, 10, 20, 30, 40, 50, 60, 70, 80, 90, 100]\n",
    "\n",
    "# Plotting\n",
    "plt.figure(figsize=(6, 4))\n",
    "users['Age'].plot(kind='hist', bins=age_bins, color=['skyblue', 'lightgreen', 'lightcoral', 'lightsalmon', 'lightseagreen', 'lightpink', 'lightblue', 'lightgrey', 'lightyellow', 'lightcyan'], edgecolor='black')\n",
    "\n",
    "plt.title('Age Distribution of Users')\n",
    "plt.xlabel('Age')\n",
    "plt.ylabel('Number of Users')\n",
    "plt.xticks(age_bins)  # Set x-ticks to age bins\n",
    "plt.grid(axis='y', linestyle='--', alpha=0.7)\n",
    "\n",
    "plt.show()"
   ]
  },
  {
   "cell_type": "markdown",
   "metadata": {},
   "source": [
    "##### Books Per Year"
   ]
  },
  {
   "cell_type": "code",
   "execution_count": 13,
   "metadata": {
    "execution": {
     "iopub.execute_input": "2024-05-08T05:07:37.812056Z",
     "iopub.status.busy": "2024-05-08T05:07:37.811611Z",
     "iopub.status.idle": "2024-05-08T05:07:38.347916Z",
     "shell.execute_reply": "2024-05-08T05:07:38.346664Z",
     "shell.execute_reply.started": "2024-05-08T05:07:37.812022Z"
    }
   },
   "outputs": [
    {
     "data": {
      "image/png": "[encoded data removed]",
      "text/plain": [
       "<Figure size 1000x600 with 1 Axes>"
      ]
     },
     "metadata": {},
     "output_type": "display_data"
    }
   ],
   "source": [
    "books['Year-Of-Publication'] = pd.to_numeric(books['Year-Of-Publication'], errors='coerce')\n",
    "\n",
    "books_per_year = books['Year-Of-Publication'].value_counts().dropna().sort_index()\n",
    "\n",
    "# Plotting\n",
    "plt.figure(figsize=(10, 6))\n",
    "books_per_year.plot(kind='line', color='red', marker='o', markersize=5, linestyle='-')\n",
    "plt.title('Number of Books Published Per Year')\n",
    "plt.xlabel('Year')\n",
    "plt.ylabel('Number of Books')\n",
    "plt.grid(True)\n",
    "plt.show()"
   ]
  },
  {
   "cell_type": "markdown",
   "metadata": {},
   "source": [
    "##### Location-Based Analysis"
   ]
  },
  {
   "cell_type": "code",
   "execution_count": 14,
   "metadata": {
    "execution": {
     "iopub.execute_input": "2024-05-08T05:08:23.318831Z",
     "iopub.status.busy": "2024-05-08T05:08:23.318373Z",
     "iopub.status.idle": "2024-05-08T05:08:23.757661Z",
     "shell.execute_reply": "2024-05-08T05:08:23.756447Z",
     "shell.execute_reply.started": "2024-05-08T05:08:23.318795Z"
    }
   },
   "outputs": [
    {
     "data": {
      "image/png": "[encoded data removed]",
      "text/plain": [
       "<Figure size 800x600 with 1 Axes>"
      ]
     },
     "metadata": {},
     "output_type": "display_data"
    }
   ],
   "source": [
    "top_user_locations = users['Location'].value_counts().head(10)\n",
    "\n",
    "colors = sns.color_palette(\"tab10\")\n",
    "\n",
    "# Plotting\n",
    "plt.figure(figsize=(8, 6))\n",
    "top_user_locations.plot(kind='barh', color=colors)\n",
    "plt.title('Top 10 User Locations')\n",
    "plt.xlabel('Number of Users')\n",
    "plt.ylabel('Location')\n",
    "plt.gca().invert_yaxis()\n",
    "plt.show()"
   ]
  },
  {
   "cell_type": "markdown",
   "metadata": {},
   "source": [
    "##### Publisher Analysis"
   ]
  },
  {
   "cell_type": "code",
   "execution_count": 15,
   "metadata": {
    "execution": {
     "iopub.execute_input": "2024-05-08T05:08:51.149660Z",
     "iopub.status.busy": "2024-05-08T05:08:51.149281Z",
     "iopub.status.idle": "2024-05-08T05:08:51.450703Z",
     "shell.execute_reply": "2024-05-08T05:08:51.449750Z",
     "shell.execute_reply.started": "2024-05-08T05:08:51.149630Z"
    }
   },
   "outputs": [
    {
     "data": {
      "image/png": "[encoded data removed]",
      "text/plain": [
       "<Figure size 800x600 with 1 Axes>"
      ]
     },
     "metadata": {},
     "output_type": "display_data"
    }
   ],
   "source": [
    "top_publishers = books[books['ISBN'].isin(most_rated_books.index)]['Publisher'].value_counts().head(10)\n",
    "\n",
    "# Plotting\n",
    "plt.figure(figsize=(8, 6))\n",
    "plt.pie(top_publishers, labels=top_publishers.index, autopct='%1.1f%%', startangle=140)\n",
    "plt.title('Top Publishers by Most Rated Books')\n",
    "plt.axis('equal') \n",
    "plt.show()"
   ]
  },
  {
   "cell_type": "markdown",
   "metadata": {},
   "source": [
    "### Collaborative Filtering Based Recommender System"
   ]
  },
  {
   "cell_type": "markdown",
   "metadata": {},
   "source": [
    "###### Merging ratings with book details"
   ]
  },
  {
   "cell_type": "code",
   "execution_count": 16,
   "metadata": {
    "execution": {
     "iopub.execute_input": "2024-05-08T05:10:00.421521Z",
     "iopub.status.busy": "2024-05-08T05:10:00.421085Z",
     "iopub.status.idle": "2024-05-08T05:10:02.325022Z",
     "shell.execute_reply": "2024-05-08T05:10:02.323768Z",
     "shell.execute_reply.started": "2024-05-08T05:10:00.421485Z"
    }
   },
   "outputs": [],
   "source": [
    "\n",
    "ratings_with_name = ratings.merge(books, on='ISBN', how='inner')"
   ]
  },
  {
   "cell_type": "code",
   "execution_count": 17,
   "metadata": {
    "execution": {
     "iopub.execute_input": "2024-05-08T05:10:06.841122Z",
     "iopub.status.busy": "2024-05-08T05:10:06.840567Z",
     "iopub.status.idle": "2024-05-08T05:10:06.868017Z",
     "shell.execute_reply": "2024-05-08T05:10:06.867016Z",
     "shell.execute_reply.started": "2024-05-08T05:10:06.841076Z"
    }
   },
   "outputs": [
    {
     "data": {
      "text/html": [
       "<div>\n",
       "<style scoped>\n",
       "    .dataframe tbody tr th:only-of-type {\n",
       "        vertical-align: middle;\n",
       "    }\n",
       "\n",
       "    .dataframe tbody tr th {\n",
       "        vertical-align: top;\n",
       "    }\n",
       "\n",
       "    .dataframe thead th {\n",
       "        text-align: right;\n",
       "    }\n",
       "</style>\n",
       "<table border=\"1\" class=\"dataframe\">\n",
       "  <thead>\n",
       "    <tr style=\"text-align: right;\">\n",
       "      <th></th>\n",
       "      <th>User-ID</th>\n",
       "      <th>ISBN</th>\n",
       "      <th>Book-Rating</th>\n",
       "      <th>Book-Title</th>\n",
       "      <th>Book-Author</th>\n",
       "      <th>Year-Of-Publication</th>\n",
       "      <th>Publisher</th>\n",
       "      <th>Image-URL-S</th>\n",
       "      <th>Image-URL-M</th>\n",
       "      <th>Image-URL-L</th>\n",
       "    </tr>\n",
       "  </thead>\n",
       "  <tbody>\n",
       "    <tr>\n",
       "      <th>0</th>\n",
       "      <td>276725</td>\n",
       "      <td>034545104X</td>\n",
       "      <td>0</td>\n",
       "      <td>Flesh Tones: A Novel</td>\n",
       "      <td>M. J. Rose</td>\n",
       "      <td>2002.0</td>\n",
       "      <td>Ballantine Books</td>\n",
       "      <td>http://images.amazon.com/images/P/034545104X.0...</td>\n",
       "      <td>http://images.amazon.com/images/P/034545104X.0...</td>\n",
       "      <td>http://images.amazon.com/images/P/034545104X.0...</td>\n",
       "    </tr>\n",
       "    <tr>\n",
       "      <th>1</th>\n",
       "      <td>276726</td>\n",
       "      <td>0155061224</td>\n",
       "      <td>5</td>\n",
       "      <td>Rites of Passage</td>\n",
       "      <td>Judith Rae</td>\n",
       "      <td>2001.0</td>\n",
       "      <td>Heinle</td>\n",
       "      <td>http://images.amazon.com/images/P/0155061224.0...</td>\n",
       "      <td>http://images.amazon.com/images/P/0155061224.0...</td>\n",
       "      <td>http://images.amazon.com/images/P/0155061224.0...</td>\n",
       "    </tr>\n",
       "    <tr>\n",
       "      <th>2</th>\n",
       "      <td>276727</td>\n",
       "      <td>0446520802</td>\n",
       "      <td>0</td>\n",
       "      <td>The Notebook</td>\n",
       "      <td>Nicholas Sparks</td>\n",
       "      <td>1996.0</td>\n",
       "      <td>Warner Books</td>\n",
       "      <td>http://images.amazon.com/images/P/0446520802.0...</td>\n",
       "      <td>http://images.amazon.com/images/P/0446520802.0...</td>\n",
       "      <td>http://images.amazon.com/images/P/0446520802.0...</td>\n",
       "    </tr>\n",
       "    <tr>\n",
       "      <th>3</th>\n",
       "      <td>276729</td>\n",
       "      <td>052165615X</td>\n",
       "      <td>3</td>\n",
       "      <td>Help!: Level 1</td>\n",
       "      <td>Philip Prowse</td>\n",
       "      <td>1999.0</td>\n",
       "      <td>Cambridge University Press</td>\n",
       "      <td>http://images.amazon.com/images/P/052165615X.0...</td>\n",
       "      <td>http://images.amazon.com/images/P/052165615X.0...</td>\n",
       "      <td>http://images.amazon.com/images/P/052165615X.0...</td>\n",
       "    </tr>\n",
       "    <tr>\n",
       "      <th>4</th>\n",
       "      <td>276729</td>\n",
       "      <td>0521795028</td>\n",
       "      <td>6</td>\n",
       "      <td>The Amsterdam Connection : Level 4 (Cambridge ...</td>\n",
       "      <td>Sue Leather</td>\n",
       "      <td>2001.0</td>\n",
       "      <td>Cambridge University Press</td>\n",
       "      <td>http://images.amazon.com/images/P/0521795028.0...</td>\n",
       "      <td>http://images.amazon.com/images/P/0521795028.0...</td>\n",
       "      <td>http://images.amazon.com/images/P/0521795028.0...</td>\n",
       "    </tr>\n",
       "    <tr>\n",
       "      <th>...</th>\n",
       "      <td>...</td>\n",
       "      <td>...</td>\n",
       "      <td>...</td>\n",
       "      <td>...</td>\n",
       "      <td>...</td>\n",
       "      <td>...</td>\n",
       "      <td>...</td>\n",
       "      <td>...</td>\n",
       "      <td>...</td>\n",
       "      <td>...</td>\n",
       "    </tr>\n",
       "    <tr>\n",
       "      <th>1031131</th>\n",
       "      <td>276704</td>\n",
       "      <td>0876044011</td>\n",
       "      <td>0</td>\n",
       "      <td>Edgar Cayce on the Akashic Records: The Book o...</td>\n",
       "      <td>Kevin J. Todeschi</td>\n",
       "      <td>1998.0</td>\n",
       "      <td>A.R.E. Press (Association of Research &amp;amp; Enlig</td>\n",
       "      <td>http://images.amazon.com/images/P/0876044011.0...</td>\n",
       "      <td>http://images.amazon.com/images/P/0876044011.0...</td>\n",
       "      <td>http://images.amazon.com/images/P/0876044011.0...</td>\n",
       "    </tr>\n",
       "    <tr>\n",
       "      <th>1031132</th>\n",
       "      <td>276704</td>\n",
       "      <td>1563526298</td>\n",
       "      <td>9</td>\n",
       "      <td>Get Clark Smart : The Ultimate Guide for the S...</td>\n",
       "      <td>Clark Howard</td>\n",
       "      <td>2000.0</td>\n",
       "      <td>Longstreet Press</td>\n",
       "      <td>http://images.amazon.com/images/P/1563526298.0...</td>\n",
       "      <td>http://images.amazon.com/images/P/1563526298.0...</td>\n",
       "      <td>http://images.amazon.com/images/P/1563526298.0...</td>\n",
       "    </tr>\n",
       "    <tr>\n",
       "      <th>1031133</th>\n",
       "      <td>276706</td>\n",
       "      <td>0679447156</td>\n",
       "      <td>0</td>\n",
       "      <td>Eight Weeks to Optimum Health: A Proven Progra...</td>\n",
       "      <td>Andrew Weil</td>\n",
       "      <td>1997.0</td>\n",
       "      <td>Alfred A. Knopf</td>\n",
       "      <td>http://images.amazon.com/images/P/0679447156.0...</td>\n",
       "      <td>http://images.amazon.com/images/P/0679447156.0...</td>\n",
       "      <td>http://images.amazon.com/images/P/0679447156.0...</td>\n",
       "    </tr>\n",
       "    <tr>\n",
       "      <th>1031134</th>\n",
       "      <td>276709</td>\n",
       "      <td>0515107662</td>\n",
       "      <td>10</td>\n",
       "      <td>The Sherbrooke Bride (Bride Trilogy (Paperback))</td>\n",
       "      <td>Catherine Coulter</td>\n",
       "      <td>1996.0</td>\n",
       "      <td>Jove Books</td>\n",
       "      <td>http://images.amazon.com/images/P/0515107662.0...</td>\n",
       "      <td>http://images.amazon.com/images/P/0515107662.0...</td>\n",
       "      <td>http://images.amazon.com/images/P/0515107662.0...</td>\n",
       "    </tr>\n",
       "    <tr>\n",
       "      <th>1031135</th>\n",
       "      <td>276721</td>\n",
       "      <td>0590442449</td>\n",
       "      <td>10</td>\n",
       "      <td>Fourth Grade Rats</td>\n",
       "      <td>Jerry Spinelli</td>\n",
       "      <td>1996.0</td>\n",
       "      <td>Scholastic</td>\n",
       "      <td>http://images.amazon.com/images/P/0590442449.0...</td>\n",
       "      <td>http://images.amazon.com/images/P/0590442449.0...</td>\n",
       "      <td>http://images.amazon.com/images/P/0590442449.0...</td>\n",
       "    </tr>\n",
       "  </tbody>\n",
       "</table>\n",
       "<p>1031136 rows × 10 columns</p>\n",
       "</div>"
      ],
      "text/plain": [
       "         User-ID        ISBN  Book-Rating  \\\n",
       "0         276725  034545104X            0   \n",
       "1         276726  0155061224            5   \n",
       "2         276727  0446520802            0   \n",
       "3         276729  052165615X            3   \n",
       "4         276729  0521795028            6   \n",
       "...          ...         ...          ...   \n",
       "1031131   276704  0876044011            0   \n",
       "1031132   276704  1563526298            9   \n",
       "1031133   276706  0679447156            0   \n",
       "1031134   276709  0515107662           10   \n",
       "1031135   276721  0590442449           10   \n",
       "\n",
       "                                                Book-Title        Book-Author  \\\n",
       "0                                     Flesh Tones: A Novel         M. J. Rose   \n",
       "1                                         Rites of Passage         Judith Rae   \n",
       "2                                             The Notebook    Nicholas Sparks   \n",
       "3                                           Help!: Level 1      Philip Prowse   \n",
       "4        The Amsterdam Connection : Level 4 (Cambridge ...        Sue Leather   \n",
       "...                                                    ...                ...   \n",
       "1031131  Edgar Cayce on the Akashic Records: The Book o...  Kevin J. Todeschi   \n",
       "1031132  Get Clark Smart : The Ultimate Guide for the S...       Clark Howard   \n",
       "1031133  Eight Weeks to Optimum Health: A Proven Progra...        Andrew Weil   \n",
       "1031134   The Sherbrooke Bride (Bride Trilogy (Paperback))  Catherine Coulter   \n",
       "1031135                                  Fourth Grade Rats     Jerry Spinelli   \n",
       "\n",
       "         Year-Of-Publication  \\\n",
       "0                     2002.0   \n",
       "1                     2001.0   \n",
       "2                     1996.0   \n",
       "3                     1999.0   \n",
       "4                     2001.0   \n",
       "...                      ...   \n",
       "1031131               1998.0   \n",
       "1031132               2000.0   \n",
       "1031133               1997.0   \n",
       "1031134               1996.0   \n",
       "1031135               1996.0   \n",
       "\n",
       "                                                 Publisher  \\\n",
       "0                                         Ballantine Books   \n",
       "1                                                   Heinle   \n",
       "2                                             Warner Books   \n",
       "3                               Cambridge University Press   \n",
       "4                               Cambridge University Press   \n",
       "...                                                    ...   \n",
       "1031131  A.R.E. Press (Association of Research &amp; Enlig   \n",
       "1031132                                   Longstreet Press   \n",
       "1031133                                    Alfred A. Knopf   \n",
       "1031134                                         Jove Books   \n",
       "1031135                                         Scholastic   \n",
       "\n",
       "                                               Image-URL-S  \\\n",
       "0        http://images.amazon.com/images/P/034545104X.0...   \n",
       "1        http://images.amazon.com/images/P/0155061224.0...   \n",
       "2        http://images.amazon.com/images/P/0446520802.0...   \n",
       "3        http://images.amazon.com/images/P/052165615X.0...   \n",
       "4        http://images.amazon.com/images/P/0521795028.0...   \n",
       "...                                                    ...   \n",
       "1031131  http://images.amazon.com/images/P/0876044011.0...   \n",
       "1031132  http://images.amazon.com/images/P/1563526298.0...   \n",
       "1031133  http://images.amazon.com/images/P/0679447156.0...   \n",
       "1031134  http://images.amazon.com/images/P/0515107662.0...   \n",
       "1031135  http://images.amazon.com/images/P/0590442449.0...   \n",
       "\n",
       "                                               Image-URL-M  \\\n",
       "0        http://images.amazon.com/images/P/034545104X.0...   \n",
       "1        http://images.amazon.com/images/P/0155061224.0...   \n",
       "2        http://images.amazon.com/images/P/0446520802.0...   \n",
       "3        http://images.amazon.com/images/P/052165615X.0...   \n",
       "4        http://images.amazon.com/images/P/0521795028.0...   \n",
       "...                                                    ...   \n",
       "1031131  http://images.amazon.com/images/P/0876044011.0...   \n",
       "1031132  http://images.amazon.com/images/P/1563526298.0...   \n",
       "1031133  http://images.amazon.com/images/P/0679447156.0...   \n",
       "1031134  http://images.amazon.com/images/P/0515107662.0...   \n",
       "1031135  http://images.amazon.com/images/P/0590442449.0...   \n",
       "\n",
       "                                               Image-URL-L  \n",
       "0        http://images.amazon.com/images/P/034545104X.0...  \n",
       "1        http://images.amazon.com/images/P/0155061224.0...  \n",
       "2        http://images.amazon.com/images/P/0446520802.0...  \n",
       "3        http://images.amazon.com/images/P/052165615X.0...  \n",
       "4        http://images.amazon.com/images/P/0521795028.0...  \n",
       "...                                                    ...  \n",
       "1031131  http://images.amazon.com/images/P/0876044011.0...  \n",
       "1031132  http://images.amazon.com/images/P/1563526298.0...  \n",
       "1031133  http://images.amazon.com/images/P/0679447156.0...  \n",
       "1031134  http://images.amazon.com/images/P/0515107662.0...  \n",
       "1031135  http://images.amazon.com/images/P/0590442449.0...  \n",
       "\n",
       "[1031136 rows x 10 columns]"
      ]
     },
     "execution_count": 17,
     "metadata": {},
     "output_type": "execute_result"
    }
   ],
   "source": [
    "ratings_with_name"
   ]
  },
  {
   "cell_type": "markdown",
   "metadata": {},
   "source": [
    "###### Identifying 'educated' users who have rated more than 200 books"
   ]
  },
  {
   "cell_type": "code",
   "execution_count": 18,
   "metadata": {
    "execution": {
     "iopub.execute_input": "2024-05-08T05:11:01.176109Z",
     "iopub.status.busy": "2024-05-08T05:11:01.175686Z",
     "iopub.status.idle": "2024-05-08T05:11:01.213229Z",
     "shell.execute_reply": "2024-05-08T05:11:01.212094Z",
     "shell.execute_reply.started": "2024-05-08T05:11:01.176077Z"
    }
   },
   "outputs": [],
   "source": [
    "ratings_per_user = ratings_with_name.groupby('User-ID').size()\n",
    "educated_users = ratings_per_user[ratings_per_user > 200].index"
   ]
  },
  {
   "cell_type": "code",
   "execution_count": 19,
   "metadata": {
    "execution": {
     "iopub.execute_input": "2024-05-08T05:11:12.654917Z",
     "iopub.status.busy": "2024-05-08T05:11:12.654481Z",
     "iopub.status.idle": "2024-05-08T05:11:12.663551Z",
     "shell.execute_reply": "2024-05-08T05:11:12.662344Z",
     "shell.execute_reply.started": "2024-05-08T05:11:12.654878Z"
    }
   },
   "outputs": [
    {
     "data": {
      "text/plain": [
       "Index([   254,   2276,   2766,   2977,   3363,   4017,   4385,   6251,   6323,\n",
       "         6543,\n",
       "       ...\n",
       "       271705, 273979, 274004, 274061, 274301, 274308, 275970, 277427, 277639,\n",
       "       278418],\n",
       "      dtype='int64', name='User-ID', length=811)"
      ]
     },
     "execution_count": 19,
     "metadata": {},
     "output_type": "execute_result"
    }
   ],
   "source": [
    "educated_users"
   ]
  },
  {
   "cell_type": "markdown",
   "metadata": {},
   "source": [
    "###### Filtering ratings for 'educated' users"
   ]
  },
  {
   "cell_type": "code",
   "execution_count": 20,
   "metadata": {
    "execution": {
     "iopub.execute_input": "2024-05-08T05:11:45.571886Z",
     "iopub.status.busy": "2024-05-08T05:11:45.571476Z",
     "iopub.status.idle": "2024-05-08T05:11:45.675411Z",
     "shell.execute_reply": "2024-05-08T05:11:45.674464Z",
     "shell.execute_reply.started": "2024-05-08T05:11:45.571855Z"
    }
   },
   "outputs": [],
   "source": [
    "educated_ratings = ratings_with_name[ratings_with_name['User-ID'].isin(educated_users)]"
   ]
  },
  {
   "cell_type": "code",
   "execution_count": 21,
   "metadata": {
    "execution": {
     "iopub.execute_input": "2024-05-08T05:11:55.912621Z",
     "iopub.status.busy": "2024-05-08T05:11:55.912160Z",
     "iopub.status.idle": "2024-05-08T05:11:55.935544Z",
     "shell.execute_reply": "2024-05-08T05:11:55.934270Z",
     "shell.execute_reply.started": "2024-05-08T05:11:55.912582Z"
    }
   },
   "outputs": [
    {
     "data": {
      "text/html": [
       "<div>\n",
       "<style scoped>\n",
       "    .dataframe tbody tr th:only-of-type {\n",
       "        vertical-align: middle;\n",
       "    }\n",
       "\n",
       "    .dataframe tbody tr th {\n",
       "        vertical-align: top;\n",
       "    }\n",
       "\n",
       "    .dataframe thead th {\n",
       "        text-align: right;\n",
       "    }\n",
       "</style>\n",
       "<table border=\"1\" class=\"dataframe\">\n",
       "  <thead>\n",
       "    <tr style=\"text-align: right;\">\n",
       "      <th></th>\n",
       "      <th>User-ID</th>\n",
       "      <th>ISBN</th>\n",
       "      <th>Book-Rating</th>\n",
       "      <th>Book-Title</th>\n",
       "      <th>Book-Author</th>\n",
       "      <th>Year-Of-Publication</th>\n",
       "      <th>Publisher</th>\n",
       "      <th>Image-URL-S</th>\n",
       "      <th>Image-URL-M</th>\n",
       "      <th>Image-URL-L</th>\n",
       "    </tr>\n",
       "  </thead>\n",
       "  <tbody>\n",
       "    <tr>\n",
       "      <th>1150</th>\n",
       "      <td>277427</td>\n",
       "      <td>002542730X</td>\n",
       "      <td>10</td>\n",
       "      <td>Politically Correct Bedtime Stories: Modern Ta...</td>\n",
       "      <td>James Finn Garner</td>\n",
       "      <td>1994.0</td>\n",
       "      <td>John Wiley &amp;amp; Sons Inc</td>\n",
       "      <td>http://images.amazon.com/images/P/002542730X.0...</td>\n",
       "      <td>http://images.amazon.com/images/P/002542730X.0...</td>\n",
       "      <td>http://images.amazon.com/images/P/002542730X.0...</td>\n",
       "    </tr>\n",
       "    <tr>\n",
       "      <th>1151</th>\n",
       "      <td>277427</td>\n",
       "      <td>0026217457</td>\n",
       "      <td>0</td>\n",
       "      <td>Vegetarian Times Complete Cookbook</td>\n",
       "      <td>Lucy  Moll</td>\n",
       "      <td>1995.0</td>\n",
       "      <td>John Wiley &amp;amp; Sons</td>\n",
       "      <td>http://images.amazon.com/images/P/0026217457.0...</td>\n",
       "      <td>http://images.amazon.com/images/P/0026217457.0...</td>\n",
       "      <td>http://images.amazon.com/images/P/0026217457.0...</td>\n",
       "    </tr>\n",
       "    <tr>\n",
       "      <th>1152</th>\n",
       "      <td>277427</td>\n",
       "      <td>003008685X</td>\n",
       "      <td>8</td>\n",
       "      <td>Pioneers</td>\n",
       "      <td>James Fenimore Cooper</td>\n",
       "      <td>1974.0</td>\n",
       "      <td>Thomson Learning</td>\n",
       "      <td>http://images.amazon.com/images/P/003008685X.0...</td>\n",
       "      <td>http://images.amazon.com/images/P/003008685X.0...</td>\n",
       "      <td>http://images.amazon.com/images/P/003008685X.0...</td>\n",
       "    </tr>\n",
       "    <tr>\n",
       "      <th>1153</th>\n",
       "      <td>277427</td>\n",
       "      <td>0030615321</td>\n",
       "      <td>0</td>\n",
       "      <td>Ask for May, Settle for June (A Doonesbury book)</td>\n",
       "      <td>G. B. Trudeau</td>\n",
       "      <td>1982.0</td>\n",
       "      <td>Henry Holt &amp;amp; Co</td>\n",
       "      <td>http://images.amazon.com/images/P/0030615321.0...</td>\n",
       "      <td>http://images.amazon.com/images/P/0030615321.0...</td>\n",
       "      <td>http://images.amazon.com/images/P/0030615321.0...</td>\n",
       "    </tr>\n",
       "    <tr>\n",
       "      <th>1154</th>\n",
       "      <td>277427</td>\n",
       "      <td>0060002050</td>\n",
       "      <td>0</td>\n",
       "      <td>On a Wicked Dawn (Cynster Novels)</td>\n",
       "      <td>Stephanie Laurens</td>\n",
       "      <td>2002.0</td>\n",
       "      <td>Avon Books</td>\n",
       "      <td>http://images.amazon.com/images/P/0060002050.0...</td>\n",
       "      <td>http://images.amazon.com/images/P/0060002050.0...</td>\n",
       "      <td>http://images.amazon.com/images/P/0060002050.0...</td>\n",
       "    </tr>\n",
       "    <tr>\n",
       "      <th>...</th>\n",
       "      <td>...</td>\n",
       "      <td>...</td>\n",
       "      <td>...</td>\n",
       "      <td>...</td>\n",
       "      <td>...</td>\n",
       "      <td>...</td>\n",
       "      <td>...</td>\n",
       "      <td>...</td>\n",
       "      <td>...</td>\n",
       "      <td>...</td>\n",
       "    </tr>\n",
       "    <tr>\n",
       "      <th>1029357</th>\n",
       "      <td>275970</td>\n",
       "      <td>1931868123</td>\n",
       "      <td>0</td>\n",
       "      <td>There's a Porcupine in My Outhouse: Misadventu...</td>\n",
       "      <td>Mike Tougias</td>\n",
       "      <td>2002.0</td>\n",
       "      <td>Capital Books (VA)</td>\n",
       "      <td>http://images.amazon.com/images/P/1931868123.0...</td>\n",
       "      <td>http://images.amazon.com/images/P/1931868123.0...</td>\n",
       "      <td>http://images.amazon.com/images/P/1931868123.0...</td>\n",
       "    </tr>\n",
       "    <tr>\n",
       "      <th>1029358</th>\n",
       "      <td>275970</td>\n",
       "      <td>3411086211</td>\n",
       "      <td>10</td>\n",
       "      <td>Die Biene.</td>\n",
       "      <td>Sybil GrÃ?Â¤fin SchÃ?Â¶nfeldt</td>\n",
       "      <td>1993.0</td>\n",
       "      <td>Bibliographisches Institut, Mannheim</td>\n",
       "      <td>http://images.amazon.com/images/P/3411086211.0...</td>\n",
       "      <td>http://images.amazon.com/images/P/3411086211.0...</td>\n",
       "      <td>http://images.amazon.com/images/P/3411086211.0...</td>\n",
       "    </tr>\n",
       "    <tr>\n",
       "      <th>1029359</th>\n",
       "      <td>275970</td>\n",
       "      <td>3829021860</td>\n",
       "      <td>0</td>\n",
       "      <td>The Penis Book</td>\n",
       "      <td>Joseph Cohen</td>\n",
       "      <td>1999.0</td>\n",
       "      <td>Konemann</td>\n",
       "      <td>http://images.amazon.com/images/P/3829021860.0...</td>\n",
       "      <td>http://images.amazon.com/images/P/3829021860.0...</td>\n",
       "      <td>http://images.amazon.com/images/P/3829021860.0...</td>\n",
       "    </tr>\n",
       "    <tr>\n",
       "      <th>1029360</th>\n",
       "      <td>275970</td>\n",
       "      <td>4770019572</td>\n",
       "      <td>0</td>\n",
       "      <td>Musashi</td>\n",
       "      <td>Eiji Yoshikawa</td>\n",
       "      <td>1995.0</td>\n",
       "      <td>Kodansha International (JPN)</td>\n",
       "      <td>http://images.amazon.com/images/P/4770019572.0...</td>\n",
       "      <td>http://images.amazon.com/images/P/4770019572.0...</td>\n",
       "      <td>http://images.amazon.com/images/P/4770019572.0...</td>\n",
       "    </tr>\n",
       "    <tr>\n",
       "      <th>1029361</th>\n",
       "      <td>275970</td>\n",
       "      <td>9626340762</td>\n",
       "      <td>8</td>\n",
       "      <td>Northanger Abbey (Classic Literature with Clas...</td>\n",
       "      <td>Jane Austen</td>\n",
       "      <td>1996.0</td>\n",
       "      <td>Naxos Audiobooks Ltd.</td>\n",
       "      <td>http://images.amazon.com/images/P/9626340762.0...</td>\n",
       "      <td>http://images.amazon.com/images/P/9626340762.0...</td>\n",
       "      <td>http://images.amazon.com/images/P/9626340762.0...</td>\n",
       "    </tr>\n",
       "  </tbody>\n",
       "</table>\n",
       "<p>474007 rows × 10 columns</p>\n",
       "</div>"
      ],
      "text/plain": [
       "         User-ID        ISBN  Book-Rating  \\\n",
       "1150      277427  002542730X           10   \n",
       "1151      277427  0026217457            0   \n",
       "1152      277427  003008685X            8   \n",
       "1153      277427  0030615321            0   \n",
       "1154      277427  0060002050            0   \n",
       "...          ...         ...          ...   \n",
       "1029357   275970  1931868123            0   \n",
       "1029358   275970  3411086211           10   \n",
       "1029359   275970  3829021860            0   \n",
       "1029360   275970  4770019572            0   \n",
       "1029361   275970  9626340762            8   \n",
       "\n",
       "                                                Book-Title  \\\n",
       "1150     Politically Correct Bedtime Stories: Modern Ta...   \n",
       "1151                    Vegetarian Times Complete Cookbook   \n",
       "1152                                              Pioneers   \n",
       "1153      Ask for May, Settle for June (A Doonesbury book)   \n",
       "1154                     On a Wicked Dawn (Cynster Novels)   \n",
       "...                                                    ...   \n",
       "1029357  There's a Porcupine in My Outhouse: Misadventu...   \n",
       "1029358                                         Die Biene.   \n",
       "1029359                                     The Penis Book   \n",
       "1029360                                            Musashi   \n",
       "1029361  Northanger Abbey (Classic Literature with Clas...   \n",
       "\n",
       "                           Book-Author  Year-Of-Publication  \\\n",
       "1150                 James Finn Garner               1994.0   \n",
       "1151                        Lucy  Moll               1995.0   \n",
       "1152             James Fenimore Cooper               1974.0   \n",
       "1153                     G. B. Trudeau               1982.0   \n",
       "1154                 Stephanie Laurens               2002.0   \n",
       "...                                ...                  ...   \n",
       "1029357                   Mike Tougias               2002.0   \n",
       "1029358  Sybil GrÃ?Â¤fin SchÃ?Â¶nfeldt               1993.0   \n",
       "1029359                   Joseph Cohen               1999.0   \n",
       "1029360                 Eiji Yoshikawa               1995.0   \n",
       "1029361                    Jane Austen               1996.0   \n",
       "\n",
       "                                    Publisher  \\\n",
       "1150                John Wiley &amp; Sons Inc   \n",
       "1151                    John Wiley &amp; Sons   \n",
       "1152                         Thomson Learning   \n",
       "1153                      Henry Holt &amp; Co   \n",
       "1154                               Avon Books   \n",
       "...                                       ...   \n",
       "1029357                    Capital Books (VA)   \n",
       "1029358  Bibliographisches Institut, Mannheim   \n",
       "1029359                              Konemann   \n",
       "1029360          Kodansha International (JPN)   \n",
       "1029361                 Naxos Audiobooks Ltd.   \n",
       "\n",
       "                                               Image-URL-S  \\\n",
       "1150     http://images.amazon.com/images/P/002542730X.0...   \n",
       "1151     http://images.amazon.com/images/P/0026217457.0...   \n",
       "1152     http://images.amazon.com/images/P/003008685X.0...   \n",
       "1153     http://images.amazon.com/images/P/0030615321.0...   \n",
       "1154     http://images.amazon.com/images/P/0060002050.0...   \n",
       "...                                                    ...   \n",
       "1029357  http://images.amazon.com/images/P/1931868123.0...   \n",
       "1029358  http://images.amazon.com/images/P/3411086211.0...   \n",
       "1029359  http://images.amazon.com/images/P/3829021860.0...   \n",
       "1029360  http://images.amazon.com/images/P/4770019572.0...   \n",
       "1029361  http://images.amazon.com/images/P/9626340762.0...   \n",
       "\n",
       "                                               Image-URL-M  \\\n",
       "1150     http://images.amazon.com/images/P/002542730X.0...   \n",
       "1151     http://images.amazon.com/images/P/0026217457.0...   \n",
       "1152     http://images.amazon.com/images/P/003008685X.0...   \n",
       "1153     http://images.amazon.com/images/P/0030615321.0...   \n",
       "1154     http://images.amazon.com/images/P/0060002050.0...   \n",
       "...                                                    ...   \n",
       "1029357  http://images.amazon.com/images/P/1931868123.0...   \n",
       "1029358  http://images.amazon.com/images/P/3411086211.0...   \n",
       "1029359  http://images.amazon.com/images/P/3829021860.0...   \n",
       "1029360  http://images.amazon.com/images/P/4770019572.0...   \n",
       "1029361  http://images.amazon.com/images/P/9626340762.0...   \n",
       "\n",
       "                                               Image-URL-L  \n",
       "1150     http://images.amazon.com/images/P/002542730X.0...  \n",
       "1151     http://images.amazon.com/images/P/0026217457.0...  \n",
       "1152     http://images.amazon.com/images/P/003008685X.0...  \n",
       "1153     http://images.amazon.com/images/P/0030615321.0...  \n",
       "1154     http://images.amazon.com/images/P/0060002050.0...  \n",
       "...                                                    ...  \n",
       "1029357  http://images.amazon.com/images/P/1931868123.0...  \n",
       "1029358  http://images.amazon.com/images/P/3411086211.0...  \n",
       "1029359  http://images.amazon.com/images/P/3829021860.0...  \n",
       "1029360  http://images.amazon.com/images/P/4770019572.0...  \n",
       "1029361  http://images.amazon.com/images/P/9626340762.0...  \n",
       "\n",
       "[474007 rows x 10 columns]"
      ]
     },
     "execution_count": 21,
     "metadata": {},
     "output_type": "execute_result"
    }
   ],
   "source": [
    "educated_ratings"
   ]
  },
  {
   "cell_type": "markdown",
   "metadata": {},
   "source": [
    "###### Determining if each book has at least 50 ratings from 'educated' users"
   ]
  },
  {
   "cell_type": "code",
   "execution_count": 22,
   "metadata": {
    "execution": {
     "iopub.execute_input": "2024-05-08T05:12:38.725274Z",
     "iopub.status.busy": "2024-05-08T05:12:38.724476Z",
     "iopub.status.idle": "2024-05-08T05:12:38.977360Z",
     "shell.execute_reply": "2024-05-08T05:12:38.975917Z",
     "shell.execute_reply.started": "2024-05-08T05:12:38.725213Z"
    }
   },
   "outputs": [],
   "source": [
    "is_famous_book = educated_ratings['Book-Title'].value_counts() >= 50"
   ]
  },
  {
   "cell_type": "code",
   "execution_count": 23,
   "metadata": {
    "execution": {
     "iopub.execute_input": "2024-05-08T05:12:44.049946Z",
     "iopub.status.busy": "2024-05-08T05:12:44.049468Z",
     "iopub.status.idle": "2024-05-08T05:12:44.092793Z",
     "shell.execute_reply": "2024-05-08T05:12:44.091461Z",
     "shell.execute_reply.started": "2024-05-08T05:12:44.049909Z"
    }
   },
   "outputs": [
    {
     "data": {
      "text/plain": [
       "Book-Title\n",
       "Wild Animus                   True\n",
       "Bridget Jones's Diary         True\n",
       "The Lovely Bones: A Novel     True\n",
       "The Notebook                  True\n",
       "The Pelican Brief             True\n",
       "                             ...  \n",
       "Untamed (Mira)               False\n",
       "The Roofer (Mira)            False\n",
       "Wedding Ring                 False\n",
       "Just Trust Me (Mira)         False\n",
       "Musashi                      False\n",
       "Name: count, Length: 155845, dtype: bool"
      ]
     },
     "execution_count": 23,
     "metadata": {},
     "output_type": "execute_result"
    }
   ],
   "source": [
    "is_famous_book"
   ]
  },
  {
   "cell_type": "markdown",
   "metadata": {},
   "source": [
    "###### Extracting the titles of famous books"
   ]
  },
  {
   "cell_type": "code",
   "execution_count": 24,
   "metadata": {
    "execution": {
     "iopub.execute_input": "2024-05-08T05:13:17.911423Z",
     "iopub.status.busy": "2024-05-08T05:13:17.911013Z",
     "iopub.status.idle": "2024-05-08T05:13:17.918038Z",
     "shell.execute_reply": "2024-05-08T05:13:17.916771Z",
     "shell.execute_reply.started": "2024-05-08T05:13:17.911390Z"
    }
   },
   "outputs": [],
   "source": [
    "famous_books = is_famous_book[is_famous_book].index"
   ]
  },
  {
   "cell_type": "code",
   "execution_count": 25,
   "metadata": {
    "execution": {
     "iopub.execute_input": "2024-05-08T05:13:21.454755Z",
     "iopub.status.busy": "2024-05-08T05:13:21.454326Z",
     "iopub.status.idle": "2024-05-08T05:13:21.462779Z",
     "shell.execute_reply": "2024-05-08T05:13:21.461411Z",
     "shell.execute_reply.started": "2024-05-08T05:13:21.454706Z"
    }
   },
   "outputs": [
    {
     "data": {
      "text/plain": [
       "Index(['Wild Animus', 'Bridget Jones's Diary', 'The Lovely Bones: A Novel',\n",
       "       'The Notebook', 'The Pelican Brief',\n",
       "       'Divine Secrets of the Ya-Ya Sisterhood: A Novel', 'A Painted House',\n",
       "       'The Nanny Diaries: A Novel', 'The Firm', 'The Da Vinci Code',\n",
       "       ...\n",
       "       'The Face of Deception', 'Tales of a Fourth Grade Nothing',\n",
       "       'Like Water for Chocolate: A Novel in Monthly Installments, With Recipes, Romances, and Home Remedies',\n",
       "       'Smart Women', 'Bleachers', 'Gorky Park', 'Watermelon',\n",
       "       'The Phantom Tollbooth',\n",
       "       'Guilty Pleasures (Anita Blake Vampire Hunter (Paperback))',\n",
       "       'The Fourth Hand'],\n",
       "      dtype='object', name='Book-Title', length=706)"
      ]
     },
     "execution_count": 25,
     "metadata": {},
     "output_type": "execute_result"
    }
   ],
   "source": [
    "famous_books"
   ]
  },
  {
   "cell_type": "markdown",
   "metadata": {},
   "source": [
    "###### Filtering 'educated' ratings for famous books"
   ]
  },
  {
   "cell_type": "code",
   "execution_count": 26,
   "metadata": {
    "execution": {
     "iopub.execute_input": "2024-05-08T05:14:02.471705Z",
     "iopub.status.busy": "2024-05-08T05:14:02.471274Z",
     "iopub.status.idle": "2024-05-08T05:14:02.570918Z",
     "shell.execute_reply": "2024-05-08T05:14:02.569796Z",
     "shell.execute_reply.started": "2024-05-08T05:14:02.471670Z"
    }
   },
   "outputs": [],
   "source": [
    "final_ratings = educated_ratings[educated_ratings['Book-Title'].isin(famous_books)]"
   ]
  },
  {
   "cell_type": "code",
   "execution_count": 27,
   "metadata": {
    "execution": {
     "iopub.execute_input": "2024-05-08T05:14:07.232496Z",
     "iopub.status.busy": "2024-05-08T05:14:07.232093Z",
     "iopub.status.idle": "2024-05-08T05:14:07.255067Z",
     "shell.execute_reply": "2024-05-08T05:14:07.253887Z",
     "shell.execute_reply.started": "2024-05-08T05:14:07.232463Z"
    }
   },
   "outputs": [
    {
     "data": {
      "text/html": [
       "<div>\n",
       "<style scoped>\n",
       "    .dataframe tbody tr th:only-of-type {\n",
       "        vertical-align: middle;\n",
       "    }\n",
       "\n",
       "    .dataframe tbody tr th {\n",
       "        vertical-align: top;\n",
       "    }\n",
       "\n",
       "    .dataframe thead th {\n",
       "        text-align: right;\n",
       "    }\n",
       "</style>\n",
       "<table border=\"1\" class=\"dataframe\">\n",
       "  <thead>\n",
       "    <tr style=\"text-align: right;\">\n",
       "      <th></th>\n",
       "      <th>User-ID</th>\n",
       "      <th>ISBN</th>\n",
       "      <th>Book-Rating</th>\n",
       "      <th>Book-Title</th>\n",
       "      <th>Book-Author</th>\n",
       "      <th>Year-Of-Publication</th>\n",
       "      <th>Publisher</th>\n",
       "      <th>Image-URL-S</th>\n",
       "      <th>Image-URL-M</th>\n",
       "      <th>Image-URL-L</th>\n",
       "    </tr>\n",
       "  </thead>\n",
       "  <tbody>\n",
       "    <tr>\n",
       "      <th>1150</th>\n",
       "      <td>277427</td>\n",
       "      <td>002542730X</td>\n",
       "      <td>10</td>\n",
       "      <td>Politically Correct Bedtime Stories: Modern Ta...</td>\n",
       "      <td>James Finn Garner</td>\n",
       "      <td>1994.0</td>\n",
       "      <td>John Wiley &amp;amp; Sons Inc</td>\n",
       "      <td>http://images.amazon.com/images/P/002542730X.0...</td>\n",
       "      <td>http://images.amazon.com/images/P/002542730X.0...</td>\n",
       "      <td>http://images.amazon.com/images/P/002542730X.0...</td>\n",
       "    </tr>\n",
       "    <tr>\n",
       "      <th>1163</th>\n",
       "      <td>277427</td>\n",
       "      <td>0060930535</td>\n",
       "      <td>0</td>\n",
       "      <td>The Poisonwood Bible: A Novel</td>\n",
       "      <td>Barbara Kingsolver</td>\n",
       "      <td>1999.0</td>\n",
       "      <td>Perennial</td>\n",
       "      <td>http://images.amazon.com/images/P/0060930535.0...</td>\n",
       "      <td>http://images.amazon.com/images/P/0060930535.0...</td>\n",
       "      <td>http://images.amazon.com/images/P/0060930535.0...</td>\n",
       "    </tr>\n",
       "    <tr>\n",
       "      <th>1165</th>\n",
       "      <td>277427</td>\n",
       "      <td>0060934417</td>\n",
       "      <td>0</td>\n",
       "      <td>Bel Canto: A Novel</td>\n",
       "      <td>Ann Patchett</td>\n",
       "      <td>2002.0</td>\n",
       "      <td>Perennial</td>\n",
       "      <td>http://images.amazon.com/images/P/0060934417.0...</td>\n",
       "      <td>http://images.amazon.com/images/P/0060934417.0...</td>\n",
       "      <td>http://images.amazon.com/images/P/0060934417.0...</td>\n",
       "    </tr>\n",
       "    <tr>\n",
       "      <th>1168</th>\n",
       "      <td>277427</td>\n",
       "      <td>0061009059</td>\n",
       "      <td>9</td>\n",
       "      <td>One for the Money (Stephanie Plum Novels (Pape...</td>\n",
       "      <td>Janet Evanovich</td>\n",
       "      <td>1995.0</td>\n",
       "      <td>HarperTorch</td>\n",
       "      <td>http://images.amazon.com/images/P/0061009059.0...</td>\n",
       "      <td>http://images.amazon.com/images/P/0061009059.0...</td>\n",
       "      <td>http://images.amazon.com/images/P/0061009059.0...</td>\n",
       "    </tr>\n",
       "    <tr>\n",
       "      <th>1174</th>\n",
       "      <td>277427</td>\n",
       "      <td>006440188X</td>\n",
       "      <td>0</td>\n",
       "      <td>The Secret Garden</td>\n",
       "      <td>Frances Hodgson Burnett</td>\n",
       "      <td>1998.0</td>\n",
       "      <td>HarperTrophy</td>\n",
       "      <td>http://images.amazon.com/images/P/006440188X.0...</td>\n",
       "      <td>http://images.amazon.com/images/P/006440188X.0...</td>\n",
       "      <td>http://images.amazon.com/images/P/006440188X.0...</td>\n",
       "    </tr>\n",
       "    <tr>\n",
       "      <th>...</th>\n",
       "      <td>...</td>\n",
       "      <td>...</td>\n",
       "      <td>...</td>\n",
       "      <td>...</td>\n",
       "      <td>...</td>\n",
       "      <td>...</td>\n",
       "      <td>...</td>\n",
       "      <td>...</td>\n",
       "      <td>...</td>\n",
       "      <td>...</td>\n",
       "    </tr>\n",
       "    <tr>\n",
       "      <th>1029196</th>\n",
       "      <td>275970</td>\n",
       "      <td>1400031354</td>\n",
       "      <td>0</td>\n",
       "      <td>Tears of the Giraffe (No.1 Ladies Detective Ag...</td>\n",
       "      <td>Alexander McCall Smith</td>\n",
       "      <td>2002.0</td>\n",
       "      <td>Anchor</td>\n",
       "      <td>http://images.amazon.com/images/P/1400031354.0...</td>\n",
       "      <td>http://images.amazon.com/images/P/1400031354.0...</td>\n",
       "      <td>http://images.amazon.com/images/P/1400031354.0...</td>\n",
       "    </tr>\n",
       "    <tr>\n",
       "      <th>1029197</th>\n",
       "      <td>275970</td>\n",
       "      <td>1400031362</td>\n",
       "      <td>0</td>\n",
       "      <td>Morality for Beautiful Girls (No.1 Ladies Dete...</td>\n",
       "      <td>Alexander McCall Smith</td>\n",
       "      <td>2002.0</td>\n",
       "      <td>Anchor</td>\n",
       "      <td>http://images.amazon.com/images/P/1400031362.0...</td>\n",
       "      <td>http://images.amazon.com/images/P/1400031362.0...</td>\n",
       "      <td>http://images.amazon.com/images/P/1400031362.0...</td>\n",
       "    </tr>\n",
       "    <tr>\n",
       "      <th>1029270</th>\n",
       "      <td>275970</td>\n",
       "      <td>1573229725</td>\n",
       "      <td>0</td>\n",
       "      <td>Fingersmith</td>\n",
       "      <td>Sarah Waters</td>\n",
       "      <td>2002.0</td>\n",
       "      <td>Riverhead Books</td>\n",
       "      <td>http://images.amazon.com/images/P/1573229725.0...</td>\n",
       "      <td>http://images.amazon.com/images/P/1573229725.0...</td>\n",
       "      <td>http://images.amazon.com/images/P/1573229725.0...</td>\n",
       "    </tr>\n",
       "    <tr>\n",
       "      <th>1029309</th>\n",
       "      <td>275970</td>\n",
       "      <td>1586210661</td>\n",
       "      <td>9</td>\n",
       "      <td>Me Talk Pretty One Day</td>\n",
       "      <td>David Sedaris</td>\n",
       "      <td>2001.0</td>\n",
       "      <td>Time Warner Audio Major</td>\n",
       "      <td>http://images.amazon.com/images/P/1586210661.0...</td>\n",
       "      <td>http://images.amazon.com/images/P/1586210661.0...</td>\n",
       "      <td>http://images.amazon.com/images/P/1586210661.0...</td>\n",
       "    </tr>\n",
       "    <tr>\n",
       "      <th>1029310</th>\n",
       "      <td>275970</td>\n",
       "      <td>1586212230</td>\n",
       "      <td>0</td>\n",
       "      <td>Naked</td>\n",
       "      <td>David Sedaris</td>\n",
       "      <td>2001.0</td>\n",
       "      <td>Time Warner Audio Major</td>\n",
       "      <td>http://images.amazon.com/images/P/1586212230.0...</td>\n",
       "      <td>http://images.amazon.com/images/P/1586212230.0...</td>\n",
       "      <td>http://images.amazon.com/images/P/1586212230.0...</td>\n",
       "    </tr>\n",
       "  </tbody>\n",
       "</table>\n",
       "<p>58586 rows × 10 columns</p>\n",
       "</div>"
      ],
      "text/plain": [
       "         User-ID        ISBN  Book-Rating  \\\n",
       "1150      277427  002542730X           10   \n",
       "1163      277427  0060930535            0   \n",
       "1165      277427  0060934417            0   \n",
       "1168      277427  0061009059            9   \n",
       "1174      277427  006440188X            0   \n",
       "...          ...         ...          ...   \n",
       "1029196   275970  1400031354            0   \n",
       "1029197   275970  1400031362            0   \n",
       "1029270   275970  1573229725            0   \n",
       "1029309   275970  1586210661            9   \n",
       "1029310   275970  1586212230            0   \n",
       "\n",
       "                                                Book-Title  \\\n",
       "1150     Politically Correct Bedtime Stories: Modern Ta...   \n",
       "1163                         The Poisonwood Bible: A Novel   \n",
       "1165                                    Bel Canto: A Novel   \n",
       "1168     One for the Money (Stephanie Plum Novels (Pape...   \n",
       "1174                                     The Secret Garden   \n",
       "...                                                    ...   \n",
       "1029196  Tears of the Giraffe (No.1 Ladies Detective Ag...   \n",
       "1029197  Morality for Beautiful Girls (No.1 Ladies Dete...   \n",
       "1029270                                        Fingersmith   \n",
       "1029309                             Me Talk Pretty One Day   \n",
       "1029310                                              Naked   \n",
       "\n",
       "                     Book-Author  Year-Of-Publication  \\\n",
       "1150           James Finn Garner               1994.0   \n",
       "1163          Barbara Kingsolver               1999.0   \n",
       "1165                Ann Patchett               2002.0   \n",
       "1168             Janet Evanovich               1995.0   \n",
       "1174     Frances Hodgson Burnett               1998.0   \n",
       "...                          ...                  ...   \n",
       "1029196   Alexander McCall Smith               2002.0   \n",
       "1029197   Alexander McCall Smith               2002.0   \n",
       "1029270             Sarah Waters               2002.0   \n",
       "1029309            David Sedaris               2001.0   \n",
       "1029310            David Sedaris               2001.0   \n",
       "\n",
       "                         Publisher  \\\n",
       "1150     John Wiley &amp; Sons Inc   \n",
       "1163                     Perennial   \n",
       "1165                     Perennial   \n",
       "1168                   HarperTorch   \n",
       "1174                  HarperTrophy   \n",
       "...                            ...   \n",
       "1029196                     Anchor   \n",
       "1029197                     Anchor   \n",
       "1029270            Riverhead Books   \n",
       "1029309    Time Warner Audio Major   \n",
       "1029310    Time Warner Audio Major   \n",
       "\n",
       "                                               Image-URL-S  \\\n",
       "1150     http://images.amazon.com/images/P/002542730X.0...   \n",
       "1163     http://images.amazon.com/images/P/0060930535.0...   \n",
       "1165     http://images.amazon.com/images/P/0060934417.0...   \n",
       "1168     http://images.amazon.com/images/P/0061009059.0...   \n",
       "1174     http://images.amazon.com/images/P/006440188X.0...   \n",
       "...                                                    ...   \n",
       "1029196  http://images.amazon.com/images/P/1400031354.0...   \n",
       "1029197  http://images.amazon.com/images/P/1400031362.0...   \n",
       "1029270  http://images.amazon.com/images/P/1573229725.0...   \n",
       "1029309  http://images.amazon.com/images/P/1586210661.0...   \n",
       "1029310  http://images.amazon.com/images/P/1586212230.0...   \n",
       "\n",
       "                                               Image-URL-M  \\\n",
       "1150     http://images.amazon.com/images/P/002542730X.0...   \n",
       "1163     http://images.amazon.com/images/P/0060930535.0...   \n",
       "1165     http://images.amazon.com/images/P/0060934417.0...   \n",
       "1168     http://images.amazon.com/images/P/0061009059.0...   \n",
       "1174     http://images.amazon.com/images/P/006440188X.0...   \n",
       "...                                                    ...   \n",
       "1029196  http://images.amazon.com/images/P/1400031354.0...   \n",
       "1029197  http://images.amazon.com/images/P/1400031362.0...   \n",
       "1029270  http://images.amazon.com/images/P/1573229725.0...   \n",
       "1029309  http://images.amazon.com/images/P/1586210661.0...   \n",
       "1029310  http://images.amazon.com/images/P/1586212230.0...   \n",
       "\n",
       "                                               Image-URL-L  \n",
       "1150     http://images.amazon.com/images/P/002542730X.0...  \n",
       "1163     http://images.amazon.com/images/P/0060930535.0...  \n",
       "1165     http://images.amazon.com/images/P/0060934417.0...  \n",
       "1168     http://images.amazon.com/images/P/0061009059.0...  \n",
       "1174     http://images.amazon.com/images/P/006440188X.0...  \n",
       "...                                                    ...  \n",
       "1029196  http://images.amazon.com/images/P/1400031354.0...  \n",
       "1029197  http://images.amazon.com/images/P/1400031362.0...  \n",
       "1029270  http://images.amazon.com/images/P/1573229725.0...  \n",
       "1029309  http://images.amazon.com/images/P/1586210661.0...  \n",
       "1029310  http://images.amazon.com/images/P/1586212230.0...  \n",
       "\n",
       "[58586 rows x 10 columns]"
      ]
     },
     "execution_count": 27,
     "metadata": {},
     "output_type": "execute_result"
    }
   ],
   "source": [
    "final_ratings"
   ]
  },
  {
   "cell_type": "markdown",
   "metadata": {},
   "source": [
    "###### Creating the pivot table for the recommender system"
   ]
  },
  {
   "cell_type": "code",
   "execution_count": 28,
   "metadata": {
    "execution": {
     "iopub.execute_input": "2024-05-08T05:14:37.398789Z",
     "iopub.status.busy": "2024-05-08T05:14:37.397899Z",
     "iopub.status.idle": "2024-05-08T05:14:37.453153Z",
     "shell.execute_reply": "2024-05-08T05:14:37.451766Z",
     "shell.execute_reply.started": "2024-05-08T05:14:37.398750Z"
    }
   },
   "outputs": [],
   "source": [
    "pt = final_ratings.pivot_table(index='Book-Title', columns='User-ID', values='Book-Rating')"
   ]
  },
  {
   "cell_type": "code",
   "execution_count": 29,
   "metadata": {
    "execution": {
     "iopub.execute_input": "2024-05-08T05:14:42.492970Z",
     "iopub.status.busy": "2024-05-08T05:14:42.492519Z",
     "iopub.status.idle": "2024-05-08T05:14:42.536540Z",
     "shell.execute_reply": "2024-05-08T05:14:42.535278Z",
     "shell.execute_reply.started": "2024-05-08T05:14:42.492934Z"
    }
   },
   "outputs": [
    {
     "data": {
      "text/html": [
       "<div>\n",
       "<style scoped>\n",
       "    .dataframe tbody tr th:only-of-type {\n",
       "        vertical-align: middle;\n",
       "    }\n",
       "\n",
       "    .dataframe tbody tr th {\n",
       "        vertical-align: top;\n",
       "    }\n",
       "\n",
       "    .dataframe thead th {\n",
       "        text-align: right;\n",
       "    }\n",
       "</style>\n",
       "<table border=\"1\" class=\"dataframe\">\n",
       "  <thead>\n",
       "    <tr style=\"text-align: right;\">\n",
       "      <th>User-ID</th>\n",
       "      <th>254</th>\n",
       "      <th>2276</th>\n",
       "      <th>2766</th>\n",
       "      <th>2977</th>\n",
       "      <th>3363</th>\n",
       "      <th>4017</th>\n",
       "      <th>4385</th>\n",
       "      <th>6251</th>\n",
       "      <th>6323</th>\n",
       "      <th>6543</th>\n",
       "      <th>...</th>\n",
       "      <th>271705</th>\n",
       "      <th>273979</th>\n",
       "      <th>274004</th>\n",
       "      <th>274061</th>\n",
       "      <th>274301</th>\n",
       "      <th>274308</th>\n",
       "      <th>275970</th>\n",
       "      <th>277427</th>\n",
       "      <th>277639</th>\n",
       "      <th>278418</th>\n",
       "    </tr>\n",
       "    <tr>\n",
       "      <th>Book-Title</th>\n",
       "      <th></th>\n",
       "      <th></th>\n",
       "      <th></th>\n",
       "      <th></th>\n",
       "      <th></th>\n",
       "      <th></th>\n",
       "      <th></th>\n",
       "      <th></th>\n",
       "      <th></th>\n",
       "      <th></th>\n",
       "      <th></th>\n",
       "      <th></th>\n",
       "      <th></th>\n",
       "      <th></th>\n",
       "      <th></th>\n",
       "      <th></th>\n",
       "      <th></th>\n",
       "      <th></th>\n",
       "      <th></th>\n",
       "      <th></th>\n",
       "      <th></th>\n",
       "    </tr>\n",
       "  </thead>\n",
       "  <tbody>\n",
       "    <tr>\n",
       "      <th>1984</th>\n",
       "      <td>9.0</td>\n",
       "      <td>NaN</td>\n",
       "      <td>NaN</td>\n",
       "      <td>NaN</td>\n",
       "      <td>NaN</td>\n",
       "      <td>NaN</td>\n",
       "      <td>NaN</td>\n",
       "      <td>NaN</td>\n",
       "      <td>NaN</td>\n",
       "      <td>NaN</td>\n",
       "      <td>...</td>\n",
       "      <td>10.0</td>\n",
       "      <td>NaN</td>\n",
       "      <td>NaN</td>\n",
       "      <td>NaN</td>\n",
       "      <td>NaN</td>\n",
       "      <td>NaN</td>\n",
       "      <td>0.0</td>\n",
       "      <td>NaN</td>\n",
       "      <td>NaN</td>\n",
       "      <td>NaN</td>\n",
       "    </tr>\n",
       "    <tr>\n",
       "      <th>1st to Die: A Novel</th>\n",
       "      <td>NaN</td>\n",
       "      <td>NaN</td>\n",
       "      <td>NaN</td>\n",
       "      <td>NaN</td>\n",
       "      <td>NaN</td>\n",
       "      <td>NaN</td>\n",
       "      <td>NaN</td>\n",
       "      <td>NaN</td>\n",
       "      <td>NaN</td>\n",
       "      <td>9.0</td>\n",
       "      <td>...</td>\n",
       "      <td>NaN</td>\n",
       "      <td>NaN</td>\n",
       "      <td>NaN</td>\n",
       "      <td>NaN</td>\n",
       "      <td>NaN</td>\n",
       "      <td>NaN</td>\n",
       "      <td>NaN</td>\n",
       "      <td>NaN</td>\n",
       "      <td>NaN</td>\n",
       "      <td>NaN</td>\n",
       "    </tr>\n",
       "    <tr>\n",
       "      <th>2nd Chance</th>\n",
       "      <td>NaN</td>\n",
       "      <td>10.0</td>\n",
       "      <td>NaN</td>\n",
       "      <td>NaN</td>\n",
       "      <td>NaN</td>\n",
       "      <td>NaN</td>\n",
       "      <td>NaN</td>\n",
       "      <td>NaN</td>\n",
       "      <td>NaN</td>\n",
       "      <td>0.0</td>\n",
       "      <td>...</td>\n",
       "      <td>NaN</td>\n",
       "      <td>NaN</td>\n",
       "      <td>NaN</td>\n",
       "      <td>NaN</td>\n",
       "      <td>NaN</td>\n",
       "      <td>0.0</td>\n",
       "      <td>NaN</td>\n",
       "      <td>NaN</td>\n",
       "      <td>0.0</td>\n",
       "      <td>NaN</td>\n",
       "    </tr>\n",
       "    <tr>\n",
       "      <th>4 Blondes</th>\n",
       "      <td>NaN</td>\n",
       "      <td>NaN</td>\n",
       "      <td>NaN</td>\n",
       "      <td>NaN</td>\n",
       "      <td>NaN</td>\n",
       "      <td>NaN</td>\n",
       "      <td>NaN</td>\n",
       "      <td>0.0</td>\n",
       "      <td>NaN</td>\n",
       "      <td>NaN</td>\n",
       "      <td>...</td>\n",
       "      <td>NaN</td>\n",
       "      <td>NaN</td>\n",
       "      <td>NaN</td>\n",
       "      <td>NaN</td>\n",
       "      <td>NaN</td>\n",
       "      <td>NaN</td>\n",
       "      <td>NaN</td>\n",
       "      <td>NaN</td>\n",
       "      <td>NaN</td>\n",
       "      <td>NaN</td>\n",
       "    </tr>\n",
       "    <tr>\n",
       "      <th>A Bend in the Road</th>\n",
       "      <td>0.0</td>\n",
       "      <td>NaN</td>\n",
       "      <td>7.0</td>\n",
       "      <td>NaN</td>\n",
       "      <td>NaN</td>\n",
       "      <td>NaN</td>\n",
       "      <td>NaN</td>\n",
       "      <td>NaN</td>\n",
       "      <td>NaN</td>\n",
       "      <td>NaN</td>\n",
       "      <td>...</td>\n",
       "      <td>NaN</td>\n",
       "      <td>0.0</td>\n",
       "      <td>NaN</td>\n",
       "      <td>NaN</td>\n",
       "      <td>NaN</td>\n",
       "      <td>NaN</td>\n",
       "      <td>NaN</td>\n",
       "      <td>NaN</td>\n",
       "      <td>NaN</td>\n",
       "      <td>NaN</td>\n",
       "    </tr>\n",
       "    <tr>\n",
       "      <th>...</th>\n",
       "      <td>...</td>\n",
       "      <td>...</td>\n",
       "      <td>...</td>\n",
       "      <td>...</td>\n",
       "      <td>...</td>\n",
       "      <td>...</td>\n",
       "      <td>...</td>\n",
       "      <td>...</td>\n",
       "      <td>...</td>\n",
       "      <td>...</td>\n",
       "      <td>...</td>\n",
       "      <td>...</td>\n",
       "      <td>...</td>\n",
       "      <td>...</td>\n",
       "      <td>...</td>\n",
       "      <td>...</td>\n",
       "      <td>...</td>\n",
       "      <td>...</td>\n",
       "      <td>...</td>\n",
       "      <td>...</td>\n",
       "      <td>...</td>\n",
       "    </tr>\n",
       "    <tr>\n",
       "      <th>Year of Wonders</th>\n",
       "      <td>NaN</td>\n",
       "      <td>NaN</td>\n",
       "      <td>NaN</td>\n",
       "      <td>7.0</td>\n",
       "      <td>NaN</td>\n",
       "      <td>NaN</td>\n",
       "      <td>NaN</td>\n",
       "      <td>NaN</td>\n",
       "      <td>NaN</td>\n",
       "      <td>0.0</td>\n",
       "      <td>...</td>\n",
       "      <td>NaN</td>\n",
       "      <td>9.0</td>\n",
       "      <td>NaN</td>\n",
       "      <td>NaN</td>\n",
       "      <td>NaN</td>\n",
       "      <td>NaN</td>\n",
       "      <td>0.0</td>\n",
       "      <td>NaN</td>\n",
       "      <td>NaN</td>\n",
       "      <td>NaN</td>\n",
       "    </tr>\n",
       "    <tr>\n",
       "      <th>You Belong To Me</th>\n",
       "      <td>NaN</td>\n",
       "      <td>NaN</td>\n",
       "      <td>NaN</td>\n",
       "      <td>NaN</td>\n",
       "      <td>NaN</td>\n",
       "      <td>NaN</td>\n",
       "      <td>NaN</td>\n",
       "      <td>NaN</td>\n",
       "      <td>0.0</td>\n",
       "      <td>NaN</td>\n",
       "      <td>...</td>\n",
       "      <td>NaN</td>\n",
       "      <td>NaN</td>\n",
       "      <td>NaN</td>\n",
       "      <td>NaN</td>\n",
       "      <td>NaN</td>\n",
       "      <td>NaN</td>\n",
       "      <td>NaN</td>\n",
       "      <td>NaN</td>\n",
       "      <td>NaN</td>\n",
       "      <td>NaN</td>\n",
       "    </tr>\n",
       "    <tr>\n",
       "      <th>Zen and the Art of Motorcycle Maintenance: An Inquiry into Values</th>\n",
       "      <td>NaN</td>\n",
       "      <td>NaN</td>\n",
       "      <td>NaN</td>\n",
       "      <td>NaN</td>\n",
       "      <td>0.0</td>\n",
       "      <td>NaN</td>\n",
       "      <td>NaN</td>\n",
       "      <td>0.0</td>\n",
       "      <td>NaN</td>\n",
       "      <td>NaN</td>\n",
       "      <td>...</td>\n",
       "      <td>NaN</td>\n",
       "      <td>NaN</td>\n",
       "      <td>NaN</td>\n",
       "      <td>NaN</td>\n",
       "      <td>NaN</td>\n",
       "      <td>NaN</td>\n",
       "      <td>0.0</td>\n",
       "      <td>NaN</td>\n",
       "      <td>NaN</td>\n",
       "      <td>NaN</td>\n",
       "    </tr>\n",
       "    <tr>\n",
       "      <th>Zoya</th>\n",
       "      <td>NaN</td>\n",
       "      <td>NaN</td>\n",
       "      <td>NaN</td>\n",
       "      <td>NaN</td>\n",
       "      <td>NaN</td>\n",
       "      <td>NaN</td>\n",
       "      <td>NaN</td>\n",
       "      <td>NaN</td>\n",
       "      <td>NaN</td>\n",
       "      <td>NaN</td>\n",
       "      <td>...</td>\n",
       "      <td>NaN</td>\n",
       "      <td>0.0</td>\n",
       "      <td>NaN</td>\n",
       "      <td>NaN</td>\n",
       "      <td>NaN</td>\n",
       "      <td>NaN</td>\n",
       "      <td>NaN</td>\n",
       "      <td>NaN</td>\n",
       "      <td>NaN</td>\n",
       "      <td>NaN</td>\n",
       "    </tr>\n",
       "    <tr>\n",
       "      <th>\\O\\\" Is for Outlaw\"</th>\n",
       "      <td>NaN</td>\n",
       "      <td>NaN</td>\n",
       "      <td>NaN</td>\n",
       "      <td>NaN</td>\n",
       "      <td>NaN</td>\n",
       "      <td>NaN</td>\n",
       "      <td>NaN</td>\n",
       "      <td>NaN</td>\n",
       "      <td>NaN</td>\n",
       "      <td>NaN</td>\n",
       "      <td>...</td>\n",
       "      <td>NaN</td>\n",
       "      <td>NaN</td>\n",
       "      <td>NaN</td>\n",
       "      <td>NaN</td>\n",
       "      <td>8.0</td>\n",
       "      <td>NaN</td>\n",
       "      <td>NaN</td>\n",
       "      <td>NaN</td>\n",
       "      <td>NaN</td>\n",
       "      <td>NaN</td>\n",
       "    </tr>\n",
       "  </tbody>\n",
       "</table>\n",
       "<p>706 rows × 810 columns</p>\n",
       "</div>"
      ],
      "text/plain": [
       "User-ID                                             254     2276    2766    \\\n",
       "Book-Title                                                                   \n",
       "1984                                                   9.0     NaN     NaN   \n",
       "1st to Die: A Novel                                    NaN     NaN     NaN   \n",
       "2nd Chance                                             NaN    10.0     NaN   \n",
       "4 Blondes                                              NaN     NaN     NaN   \n",
       "A Bend in the Road                                     0.0     NaN     7.0   \n",
       "...                                                    ...     ...     ...   \n",
       "Year of Wonders                                        NaN     NaN     NaN   \n",
       "You Belong To Me                                       NaN     NaN     NaN   \n",
       "Zen and the Art of Motorcycle Maintenance: An I...     NaN     NaN     NaN   \n",
       "Zoya                                                   NaN     NaN     NaN   \n",
       "\\O\\\" Is for Outlaw\"                                    NaN     NaN     NaN   \n",
       "\n",
       "User-ID                                             2977    3363    4017    \\\n",
       "Book-Title                                                                   \n",
       "1984                                                   NaN     NaN     NaN   \n",
       "1st to Die: A Novel                                    NaN     NaN     NaN   \n",
       "2nd Chance                                             NaN     NaN     NaN   \n",
       "4 Blondes                                              NaN     NaN     NaN   \n",
       "A Bend in the Road                                     NaN     NaN     NaN   \n",
       "...                                                    ...     ...     ...   \n",
       "Year of Wonders                                        7.0     NaN     NaN   \n",
       "You Belong To Me                                       NaN     NaN     NaN   \n",
       "Zen and the Art of Motorcycle Maintenance: An I...     NaN     0.0     NaN   \n",
       "Zoya                                                   NaN     NaN     NaN   \n",
       "\\O\\\" Is for Outlaw\"                                    NaN     NaN     NaN   \n",
       "\n",
       "User-ID                                             4385    6251    6323    \\\n",
       "Book-Title                                                                   \n",
       "1984                                                   NaN     NaN     NaN   \n",
       "1st to Die: A Novel                                    NaN     NaN     NaN   \n",
       "2nd Chance                                             NaN     NaN     NaN   \n",
       "4 Blondes                                              NaN     0.0     NaN   \n",
       "A Bend in the Road                                     NaN     NaN     NaN   \n",
       "...                                                    ...     ...     ...   \n",
       "Year of Wonders                                        NaN     NaN     NaN   \n",
       "You Belong To Me                                       NaN     NaN     0.0   \n",
       "Zen and the Art of Motorcycle Maintenance: An I...     NaN     0.0     NaN   \n",
       "Zoya                                                   NaN     NaN     NaN   \n",
       "\\O\\\" Is for Outlaw\"                                    NaN     NaN     NaN   \n",
       "\n",
       "User-ID                                             6543    ...  271705  \\\n",
       "Book-Title                                                  ...           \n",
       "1984                                                   NaN  ...    10.0   \n",
       "1st to Die: A Novel                                    9.0  ...     NaN   \n",
       "2nd Chance                                             0.0  ...     NaN   \n",
       "4 Blondes                                              NaN  ...     NaN   \n",
       "A Bend in the Road                                     NaN  ...     NaN   \n",
       "...                                                    ...  ...     ...   \n",
       "Year of Wonders                                        0.0  ...     NaN   \n",
       "You Belong To Me                                       NaN  ...     NaN   \n",
       "Zen and the Art of Motorcycle Maintenance: An I...     NaN  ...     NaN   \n",
       "Zoya                                                   NaN  ...     NaN   \n",
       "\\O\\\" Is for Outlaw\"                                    NaN  ...     NaN   \n",
       "\n",
       "User-ID                                             273979  274004  274061  \\\n",
       "Book-Title                                                                   \n",
       "1984                                                   NaN     NaN     NaN   \n",
       "1st to Die: A Novel                                    NaN     NaN     NaN   \n",
       "2nd Chance                                             NaN     NaN     NaN   \n",
       "4 Blondes                                              NaN     NaN     NaN   \n",
       "A Bend in the Road                                     0.0     NaN     NaN   \n",
       "...                                                    ...     ...     ...   \n",
       "Year of Wonders                                        9.0     NaN     NaN   \n",
       "You Belong To Me                                       NaN     NaN     NaN   \n",
       "Zen and the Art of Motorcycle Maintenance: An I...     NaN     NaN     NaN   \n",
       "Zoya                                                   0.0     NaN     NaN   \n",
       "\\O\\\" Is for Outlaw\"                                    NaN     NaN     NaN   \n",
       "\n",
       "User-ID                                             274301  274308  275970  \\\n",
       "Book-Title                                                                   \n",
       "1984                                                   NaN     NaN     0.0   \n",
       "1st to Die: A Novel                                    NaN     NaN     NaN   \n",
       "2nd Chance                                             NaN     0.0     NaN   \n",
       "4 Blondes                                              NaN     NaN     NaN   \n",
       "A Bend in the Road                                     NaN     NaN     NaN   \n",
       "...                                                    ...     ...     ...   \n",
       "Year of Wonders                                        NaN     NaN     0.0   \n",
       "You Belong To Me                                       NaN     NaN     NaN   \n",
       "Zen and the Art of Motorcycle Maintenance: An I...     NaN     NaN     0.0   \n",
       "Zoya                                                   NaN     NaN     NaN   \n",
       "\\O\\\" Is for Outlaw\"                                    8.0     NaN     NaN   \n",
       "\n",
       "User-ID                                             277427  277639  278418  \n",
       "Book-Title                                                                  \n",
       "1984                                                   NaN     NaN     NaN  \n",
       "1st to Die: A Novel                                    NaN     NaN     NaN  \n",
       "2nd Chance                                             NaN     0.0     NaN  \n",
       "4 Blondes                                              NaN     NaN     NaN  \n",
       "A Bend in the Road                                     NaN     NaN     NaN  \n",
       "...                                                    ...     ...     ...  \n",
       "Year of Wonders                                        NaN     NaN     NaN  \n",
       "You Belong To Me                                       NaN     NaN     NaN  \n",
       "Zen and the Art of Motorcycle Maintenance: An I...     NaN     NaN     NaN  \n",
       "Zoya                                                   NaN     NaN     NaN  \n",
       "\\O\\\" Is for Outlaw\"                                    NaN     NaN     NaN  \n",
       "\n",
       "[706 rows x 810 columns]"
      ]
     },
     "execution_count": 29,
     "metadata": {},
     "output_type": "execute_result"
    }
   ],
   "source": [
    "pt"
   ]
  },
  {
   "cell_type": "markdown",
   "metadata": {},
   "source": [
    "##### Setting the style and Plotting the heatmap of the pivot table"
   ]
  },
  {
   "cell_type": "code",
   "execution_count": 30,
   "metadata": {
    "execution": {
     "iopub.execute_input": "2024-05-08T05:16:24.039177Z",
     "iopub.status.busy": "2024-05-08T05:16:24.038765Z",
     "iopub.status.idle": "2024-05-08T05:16:28.615216Z",
     "shell.execute_reply": "2024-05-08T05:16:28.613821Z",
     "shell.execute_reply.started": "2024-05-08T05:16:24.039145Z"
    }
   },
   "outputs": [
    {
     "data": {
      "image/png": "[encoded data removed]",
      "text/plain": [
       "<Figure size 1000x800 with 2 Axes>"
      ]
     },
     "metadata": {},
     "output_type": "display_data"
    }
   ],
   "source": [
    "sns.set_style(\"whitegrid\")\n",
    "\n",
    "plt.figure(figsize=(10, 8))\n",
    "sns.heatmap(pt, cmap=\"coolwarm\", linewidths=0.5)\n",
    "plt.title('Pivot Table: Book Ratings by User')\n",
    "plt.xlabel('User ID')\n",
    "plt.ylabel('Book Title')\n",
    "plt.show()"
   ]
  },
  {
   "cell_type": "markdown",
   "metadata": {},
   "source": [
    "###### Filling missing values with 0 in the pivot table"
   ]
  },
  {
   "cell_type": "code",
   "execution_count": 31,
   "metadata": {
    "execution": {
     "iopub.execute_input": "2024-05-08T05:17:05.804784Z",
     "iopub.status.busy": "2024-05-08T05:17:05.804307Z",
     "iopub.status.idle": "2024-05-08T05:17:05.869427Z",
     "shell.execute_reply": "2024-05-08T05:17:05.868022Z",
     "shell.execute_reply.started": "2024-05-08T05:17:05.804746Z"
    }
   },
   "outputs": [
    {
     "data": {
      "text/html": [
       "<div>\n",
       "<style scoped>\n",
       "    .dataframe tbody tr th:only-of-type {\n",
       "        vertical-align: middle;\n",
       "    }\n",
       "\n",
       "    .dataframe tbody tr th {\n",
       "        vertical-align: top;\n",
       "    }\n",
       "\n",
       "    .dataframe thead th {\n",
       "        text-align: right;\n",
       "    }\n",
       "</style>\n",
       "<table border=\"1\" class=\"dataframe\">\n",
       "  <thead>\n",
       "    <tr style=\"text-align: right;\">\n",
       "      <th>User-ID</th>\n",
       "      <th>254</th>\n",
       "      <th>2276</th>\n",
       "      <th>2766</th>\n",
       "      <th>2977</th>\n",
       "      <th>3363</th>\n",
       "      <th>4017</th>\n",
       "      <th>4385</th>\n",
       "      <th>6251</th>\n",
       "      <th>6323</th>\n",
       "      <th>6543</th>\n",
       "      <th>...</th>\n",
       "      <th>271705</th>\n",
       "      <th>273979</th>\n",
       "      <th>274004</th>\n",
       "      <th>274061</th>\n",
       "      <th>274301</th>\n",
       "      <th>274308</th>\n",
       "      <th>275970</th>\n",
       "      <th>277427</th>\n",
       "      <th>277639</th>\n",
       "      <th>278418</th>\n",
       "    </tr>\n",
       "    <tr>\n",
       "      <th>Book-Title</th>\n",
       "      <th></th>\n",
       "      <th></th>\n",
       "      <th></th>\n",
       "      <th></th>\n",
       "      <th></th>\n",
       "      <th></th>\n",
       "      <th></th>\n",
       "      <th></th>\n",
       "      <th></th>\n",
       "      <th></th>\n",
       "      <th></th>\n",
       "      <th></th>\n",
       "      <th></th>\n",
       "      <th></th>\n",
       "      <th></th>\n",
       "      <th></th>\n",
       "      <th></th>\n",
       "      <th></th>\n",
       "      <th></th>\n",
       "      <th></th>\n",
       "      <th></th>\n",
       "    </tr>\n",
       "  </thead>\n",
       "  <tbody>\n",
       "    <tr>\n",
       "      <th>1984</th>\n",
       "      <td>9.0</td>\n",
       "      <td>0.0</td>\n",
       "      <td>0.0</td>\n",
       "      <td>0.0</td>\n",
       "      <td>0.0</td>\n",
       "      <td>0.0</td>\n",
       "      <td>0.0</td>\n",
       "      <td>0.0</td>\n",
       "      <td>0.0</td>\n",
       "      <td>0.0</td>\n",
       "      <td>...</td>\n",
       "      <td>10.0</td>\n",
       "      <td>0.0</td>\n",
       "      <td>0.0</td>\n",
       "      <td>0.0</td>\n",
       "      <td>0.0</td>\n",
       "      <td>0.0</td>\n",
       "      <td>0.0</td>\n",
       "      <td>0.0</td>\n",
       "      <td>0.0</td>\n",
       "      <td>0.0</td>\n",
       "    </tr>\n",
       "    <tr>\n",
       "      <th>1st to Die: A Novel</th>\n",
       "      <td>0.0</td>\n",
       "      <td>0.0</td>\n",
       "      <td>0.0</td>\n",
       "      <td>0.0</td>\n",
       "      <td>0.0</td>\n",
       "      <td>0.0</td>\n",
       "      <td>0.0</td>\n",
       "      <td>0.0</td>\n",
       "      <td>0.0</td>\n",
       "      <td>9.0</td>\n",
       "      <td>...</td>\n",
       "      <td>0.0</td>\n",
       "      <td>0.0</td>\n",
       "      <td>0.0</td>\n",
       "      <td>0.0</td>\n",
       "      <td>0.0</td>\n",
       "      <td>0.0</td>\n",
       "      <td>0.0</td>\n",
       "      <td>0.0</td>\n",
       "      <td>0.0</td>\n",
       "      <td>0.0</td>\n",
       "    </tr>\n",
       "    <tr>\n",
       "      <th>2nd Chance</th>\n",
       "      <td>0.0</td>\n",
       "      <td>10.0</td>\n",
       "      <td>0.0</td>\n",
       "      <td>0.0</td>\n",
       "      <td>0.0</td>\n",
       "      <td>0.0</td>\n",
       "      <td>0.0</td>\n",
       "      <td>0.0</td>\n",
       "      <td>0.0</td>\n",
       "      <td>0.0</td>\n",
       "      <td>...</td>\n",
       "      <td>0.0</td>\n",
       "      <td>0.0</td>\n",
       "      <td>0.0</td>\n",
       "      <td>0.0</td>\n",
       "      <td>0.0</td>\n",
       "      <td>0.0</td>\n",
       "      <td>0.0</td>\n",
       "      <td>0.0</td>\n",
       "      <td>0.0</td>\n",
       "      <td>0.0</td>\n",
       "    </tr>\n",
       "    <tr>\n",
       "      <th>4 Blondes</th>\n",
       "      <td>0.0</td>\n",
       "      <td>0.0</td>\n",
       "      <td>0.0</td>\n",
       "      <td>0.0</td>\n",
       "      <td>0.0</td>\n",
       "      <td>0.0</td>\n",
       "      <td>0.0</td>\n",
       "      <td>0.0</td>\n",
       "      <td>0.0</td>\n",
       "      <td>0.0</td>\n",
       "      <td>...</td>\n",
       "      <td>0.0</td>\n",
       "      <td>0.0</td>\n",
       "      <td>0.0</td>\n",
       "      <td>0.0</td>\n",
       "      <td>0.0</td>\n",
       "      <td>0.0</td>\n",
       "      <td>0.0</td>\n",
       "      <td>0.0</td>\n",
       "      <td>0.0</td>\n",
       "      <td>0.0</td>\n",
       "    </tr>\n",
       "    <tr>\n",
       "      <th>A Bend in the Road</th>\n",
       "      <td>0.0</td>\n",
       "      <td>0.0</td>\n",
       "      <td>7.0</td>\n",
       "      <td>0.0</td>\n",
       "      <td>0.0</td>\n",
       "      <td>0.0</td>\n",
       "      <td>0.0</td>\n",
       "      <td>0.0</td>\n",
       "      <td>0.0</td>\n",
       "      <td>0.0</td>\n",
       "      <td>...</td>\n",
       "      <td>0.0</td>\n",
       "      <td>0.0</td>\n",
       "      <td>0.0</td>\n",
       "      <td>0.0</td>\n",
       "      <td>0.0</td>\n",
       "      <td>0.0</td>\n",
       "      <td>0.0</td>\n",
       "      <td>0.0</td>\n",
       "      <td>0.0</td>\n",
       "      <td>0.0</td>\n",
       "    </tr>\n",
       "    <tr>\n",
       "      <th>...</th>\n",
       "      <td>...</td>\n",
       "      <td>...</td>\n",
       "      <td>...</td>\n",
       "      <td>...</td>\n",
       "      <td>...</td>\n",
       "      <td>...</td>\n",
       "      <td>...</td>\n",
       "      <td>...</td>\n",
       "      <td>...</td>\n",
       "      <td>...</td>\n",
       "      <td>...</td>\n",
       "      <td>...</td>\n",
       "      <td>...</td>\n",
       "      <td>...</td>\n",
       "      <td>...</td>\n",
       "      <td>...</td>\n",
       "      <td>...</td>\n",
       "      <td>...</td>\n",
       "      <td>...</td>\n",
       "      <td>...</td>\n",
       "      <td>...</td>\n",
       "    </tr>\n",
       "    <tr>\n",
       "      <th>Year of Wonders</th>\n",
       "      <td>0.0</td>\n",
       "      <td>0.0</td>\n",
       "      <td>0.0</td>\n",
       "      <td>7.0</td>\n",
       "      <td>0.0</td>\n",
       "      <td>0.0</td>\n",
       "      <td>0.0</td>\n",
       "      <td>0.0</td>\n",
       "      <td>0.0</td>\n",
       "      <td>0.0</td>\n",
       "      <td>...</td>\n",
       "      <td>0.0</td>\n",
       "      <td>9.0</td>\n",
       "      <td>0.0</td>\n",
       "      <td>0.0</td>\n",
       "      <td>0.0</td>\n",
       "      <td>0.0</td>\n",
       "      <td>0.0</td>\n",
       "      <td>0.0</td>\n",
       "      <td>0.0</td>\n",
       "      <td>0.0</td>\n",
       "    </tr>\n",
       "    <tr>\n",
       "      <th>You Belong To Me</th>\n",
       "      <td>0.0</td>\n",
       "      <td>0.0</td>\n",
       "      <td>0.0</td>\n",
       "      <td>0.0</td>\n",
       "      <td>0.0</td>\n",
       "      <td>0.0</td>\n",
       "      <td>0.0</td>\n",
       "      <td>0.0</td>\n",
       "      <td>0.0</td>\n",
       "      <td>0.0</td>\n",
       "      <td>...</td>\n",
       "      <td>0.0</td>\n",
       "      <td>0.0</td>\n",
       "      <td>0.0</td>\n",
       "      <td>0.0</td>\n",
       "      <td>0.0</td>\n",
       "      <td>0.0</td>\n",
       "      <td>0.0</td>\n",
       "      <td>0.0</td>\n",
       "      <td>0.0</td>\n",
       "      <td>0.0</td>\n",
       "    </tr>\n",
       "    <tr>\n",
       "      <th>Zen and the Art of Motorcycle Maintenance: An Inquiry into Values</th>\n",
       "      <td>0.0</td>\n",
       "      <td>0.0</td>\n",
       "      <td>0.0</td>\n",
       "      <td>0.0</td>\n",
       "      <td>0.0</td>\n",
       "      <td>0.0</td>\n",
       "      <td>0.0</td>\n",
       "      <td>0.0</td>\n",
       "      <td>0.0</td>\n",
       "      <td>0.0</td>\n",
       "      <td>...</td>\n",
       "      <td>0.0</td>\n",
       "      <td>0.0</td>\n",
       "      <td>0.0</td>\n",
       "      <td>0.0</td>\n",
       "      <td>0.0</td>\n",
       "      <td>0.0</td>\n",
       "      <td>0.0</td>\n",
       "      <td>0.0</td>\n",
       "      <td>0.0</td>\n",
       "      <td>0.0</td>\n",
       "    </tr>\n",
       "    <tr>\n",
       "      <th>Zoya</th>\n",
       "      <td>0.0</td>\n",
       "      <td>0.0</td>\n",
       "      <td>0.0</td>\n",
       "      <td>0.0</td>\n",
       "      <td>0.0</td>\n",
       "      <td>0.0</td>\n",
       "      <td>0.0</td>\n",
       "      <td>0.0</td>\n",
       "      <td>0.0</td>\n",
       "      <td>0.0</td>\n",
       "      <td>...</td>\n",
       "      <td>0.0</td>\n",
       "      <td>0.0</td>\n",
       "      <td>0.0</td>\n",
       "      <td>0.0</td>\n",
       "      <td>0.0</td>\n",
       "      <td>0.0</td>\n",
       "      <td>0.0</td>\n",
       "      <td>0.0</td>\n",
       "      <td>0.0</td>\n",
       "      <td>0.0</td>\n",
       "    </tr>\n",
       "    <tr>\n",
       "      <th>\\O\\\" Is for Outlaw\"</th>\n",
       "      <td>0.0</td>\n",
       "      <td>0.0</td>\n",
       "      <td>0.0</td>\n",
       "      <td>0.0</td>\n",
       "      <td>0.0</td>\n",
       "      <td>0.0</td>\n",
       "      <td>0.0</td>\n",
       "      <td>0.0</td>\n",
       "      <td>0.0</td>\n",
       "      <td>0.0</td>\n",
       "      <td>...</td>\n",
       "      <td>0.0</td>\n",
       "      <td>0.0</td>\n",
       "      <td>0.0</td>\n",
       "      <td>0.0</td>\n",
       "      <td>8.0</td>\n",
       "      <td>0.0</td>\n",
       "      <td>0.0</td>\n",
       "      <td>0.0</td>\n",
       "      <td>0.0</td>\n",
       "      <td>0.0</td>\n",
       "    </tr>\n",
       "  </tbody>\n",
       "</table>\n",
       "<p>706 rows × 810 columns</p>\n",
       "</div>"
      ],
      "text/plain": [
       "User-ID                                             254     2276    2766    \\\n",
       "Book-Title                                                                   \n",
       "1984                                                   9.0     0.0     0.0   \n",
       "1st to Die: A Novel                                    0.0     0.0     0.0   \n",
       "2nd Chance                                             0.0    10.0     0.0   \n",
       "4 Blondes                                              0.0     0.0     0.0   \n",
       "A Bend in the Road                                     0.0     0.0     7.0   \n",
       "...                                                    ...     ...     ...   \n",
       "Year of Wonders                                        0.0     0.0     0.0   \n",
       "You Belong To Me                                       0.0     0.0     0.0   \n",
       "Zen and the Art of Motorcycle Maintenance: An I...     0.0     0.0     0.0   \n",
       "Zoya                                                   0.0     0.0     0.0   \n",
       "\\O\\\" Is for Outlaw\"                                    0.0     0.0     0.0   \n",
       "\n",
       "User-ID                                             2977    3363    4017    \\\n",
       "Book-Title                                                                   \n",
       "1984                                                   0.0     0.0     0.0   \n",
       "1st to Die: A Novel                                    0.0     0.0     0.0   \n",
       "2nd Chance                                             0.0     0.0     0.0   \n",
       "4 Blondes                                              0.0     0.0     0.0   \n",
       "A Bend in the Road                                     0.0     0.0     0.0   \n",
       "...                                                    ...     ...     ...   \n",
       "Year of Wonders                                        7.0     0.0     0.0   \n",
       "You Belong To Me                                       0.0     0.0     0.0   \n",
       "Zen and the Art of Motorcycle Maintenance: An I...     0.0     0.0     0.0   \n",
       "Zoya                                                   0.0     0.0     0.0   \n",
       "\\O\\\" Is for Outlaw\"                                    0.0     0.0     0.0   \n",
       "\n",
       "User-ID                                             4385    6251    6323    \\\n",
       "Book-Title                                                                   \n",
       "1984                                                   0.0     0.0     0.0   \n",
       "1st to Die: A Novel                                    0.0     0.0     0.0   \n",
       "2nd Chance                                             0.0     0.0     0.0   \n",
       "4 Blondes                                              0.0     0.0     0.0   \n",
       "A Bend in the Road                                     0.0     0.0     0.0   \n",
       "...                                                    ...     ...     ...   \n",
       "Year of Wonders                                        0.0     0.0     0.0   \n",
       "You Belong To Me                                       0.0     0.0     0.0   \n",
       "Zen and the Art of Motorcycle Maintenance: An I...     0.0     0.0     0.0   \n",
       "Zoya                                                   0.0     0.0     0.0   \n",
       "\\O\\\" Is for Outlaw\"                                    0.0     0.0     0.0   \n",
       "\n",
       "User-ID                                             6543    ...  271705  \\\n",
       "Book-Title                                                  ...           \n",
       "1984                                                   0.0  ...    10.0   \n",
       "1st to Die: A Novel                                    9.0  ...     0.0   \n",
       "2nd Chance                                             0.0  ...     0.0   \n",
       "4 Blondes                                              0.0  ...     0.0   \n",
       "A Bend in the Road                                     0.0  ...     0.0   \n",
       "...                                                    ...  ...     ...   \n",
       "Year of Wonders                                        0.0  ...     0.0   \n",
       "You Belong To Me                                       0.0  ...     0.0   \n",
       "Zen and the Art of Motorcycle Maintenance: An I...     0.0  ...     0.0   \n",
       "Zoya                                                   0.0  ...     0.0   \n",
       "\\O\\\" Is for Outlaw\"                                    0.0  ...     0.0   \n",
       "\n",
       "User-ID                                             273979  274004  274061  \\\n",
       "Book-Title                                                                   \n",
       "1984                                                   0.0     0.0     0.0   \n",
       "1st to Die: A Novel                                    0.0     0.0     0.0   \n",
       "2nd Chance                                             0.0     0.0     0.0   \n",
       "4 Blondes                                              0.0     0.0     0.0   \n",
       "A Bend in the Road                                     0.0     0.0     0.0   \n",
       "...                                                    ...     ...     ...   \n",
       "Year of Wonders                                        9.0     0.0     0.0   \n",
       "You Belong To Me                                       0.0     0.0     0.0   \n",
       "Zen and the Art of Motorcycle Maintenance: An I...     0.0     0.0     0.0   \n",
       "Zoya                                                   0.0     0.0     0.0   \n",
       "\\O\\\" Is for Outlaw\"                                    0.0     0.0     0.0   \n",
       "\n",
       "User-ID                                             274301  274308  275970  \\\n",
       "Book-Title                                                                   \n",
       "1984                                                   0.0     0.0     0.0   \n",
       "1st to Die: A Novel                                    0.0     0.0     0.0   \n",
       "2nd Chance                                             0.0     0.0     0.0   \n",
       "4 Blondes                                              0.0     0.0     0.0   \n",
       "A Bend in the Road                                     0.0     0.0     0.0   \n",
       "...                                                    ...     ...     ...   \n",
       "Year of Wonders                                        0.0     0.0     0.0   \n",
       "You Belong To Me                                       0.0     0.0     0.0   \n",
       "Zen and the Art of Motorcycle Maintenance: An I...     0.0     0.0     0.0   \n",
       "Zoya                                                   0.0     0.0     0.0   \n",
       "\\O\\\" Is for Outlaw\"                                    8.0     0.0     0.0   \n",
       "\n",
       "User-ID                                             277427  277639  278418  \n",
       "Book-Title                                                                  \n",
       "1984                                                   0.0     0.0     0.0  \n",
       "1st to Die: A Novel                                    0.0     0.0     0.0  \n",
       "2nd Chance                                             0.0     0.0     0.0  \n",
       "4 Blondes                                              0.0     0.0     0.0  \n",
       "A Bend in the Road                                     0.0     0.0     0.0  \n",
       "...                                                    ...     ...     ...  \n",
       "Year of Wonders                                        0.0     0.0     0.0  \n",
       "You Belong To Me                                       0.0     0.0     0.0  \n",
       "Zen and the Art of Motorcycle Maintenance: An I...     0.0     0.0     0.0  \n",
       "Zoya                                                   0.0     0.0     0.0  \n",
       "\\O\\\" Is for Outlaw\"                                    0.0     0.0     0.0  \n",
       "\n",
       "[706 rows x 810 columns]"
      ]
     },
     "execution_count": 31,
     "metadata": {},
     "output_type": "execute_result"
    }
   ],
   "source": [
    "pt.fillna(0, inplace=True)\n",
    "pt"
   ]
  },
  {
   "cell_type": "markdown",
   "metadata": {},
   "source": [
    "### Calculating the cosine similarity scores"
   ]
  },
  {
   "cell_type": "code",
   "execution_count": 32,
   "metadata": {
    "execution": {
     "iopub.execute_input": "2024-05-08T05:17:28.945680Z",
     "iopub.status.busy": "2024-05-08T05:17:28.945254Z",
     "iopub.status.idle": "2024-05-08T05:17:28.979698Z",
     "shell.execute_reply": "2024-05-08T05:17:28.978038Z",
     "shell.execute_reply.started": "2024-05-08T05:17:28.945646Z"
    }
   },
   "outputs": [],
   "source": [
    "similarity_scores = cosine_similarity(pt)"
   ]
  },
  {
   "cell_type": "markdown",
   "metadata": {},
   "source": [
    "### Defining the recommendation function"
   ]
  },
  {
   "cell_type": "code",
   "execution_count": 33,
   "metadata": {
    "execution": {
     "iopub.execute_input": "2024-05-08T05:18:05.986681Z",
     "iopub.status.busy": "2024-05-08T05:18:05.986299Z",
     "iopub.status.idle": "2024-05-08T05:18:05.996353Z",
     "shell.execute_reply": "2024-05-08T05:18:05.994884Z",
     "shell.execute_reply.started": "2024-05-08T05:18:05.986650Z"
    }
   },
   "outputs": [],
   "source": [
    "def recommend(book_name, similarity_scores, pt, books):\n",
    "    # Find the index of the specified book\n",
    "    index = pt.index.get_loc(book_name)\n",
    "   \n",
    "    # Sort similar items based on similarity scores\n",
    "    similar_items = sorted(enumerate(similarity_scores[index]), key=lambda x: x[1], reverse=True)[1:5]\n",
    "   \n",
    "    # Prepare data for recommended books\n",
    "    recommended_books = []\n",
    "    for i, sim_score in similar_items:\n",
    "        # Fetch book details\n",
    "        similar_book = books[books['Book-Title'] == pt.index[i]].drop_duplicates(subset='Book-Title')\n",
    "        book_title = similar_book['Book-Title'].values[0]\n",
    "        book_author = similar_book['Book-Author'].values[0]\n",
    "       \n",
    "        # Append book details to the recommended books list\n",
    "        recommended_books.append({'Title': book_title, 'Author': book_author})\n",
    "   \n",
    "    return recommended_books"
   ]
  },
  {
   "cell_type": "markdown",
   "metadata": {},
   "source": [
    "### Selecting a book to test the recommendation system"
   ]
  },
  {
   "cell_type": "code",
   "execution_count": 34,
   "metadata": {
    "execution": {
     "iopub.execute_input": "2024-05-08T05:18:32.112563Z",
     "iopub.status.busy": "2024-05-08T05:18:32.112161Z",
     "iopub.status.idle": "2024-05-08T05:18:32.328302Z",
     "shell.execute_reply": "2024-05-08T05:18:32.326981Z",
     "shell.execute_reply.started": "2024-05-08T05:18:32.112531Z"
    }
   },
   "outputs": [],
   "source": [
    "selected_book = \"1984\"\n",
    "recommended_books = recommend(selected_book, similarity_scores, pt, books)"
   ]
  },
  {
   "cell_type": "markdown",
   "metadata": {},
   "source": [
    "### Displaying recommended books as a text-based table"
   ]
  },
  {
   "cell_type": "code",
   "execution_count": 35,
   "metadata": {
    "execution": {
     "iopub.execute_input": "2024-05-08T05:19:02.319240Z",
     "iopub.status.busy": "2024-05-08T05:19:02.318840Z",
     "iopub.status.idle": "2024-05-08T05:19:02.328232Z",
     "shell.execute_reply": "2024-05-08T05:19:02.326790Z",
     "shell.execute_reply.started": "2024-05-08T05:19:02.319209Z"
    }
   },
   "outputs": [
    {
     "name": "stdout",
     "output_type": "stream",
     "text": [
      "Recommended books for '1984':\n",
      "+--------------------------------------------------+-----------------+\n",
      "|                      Title                       |     Author      |\n",
      "+==================================================+=================+\n",
      "|                   Animal Farm                    |  George Orwell  |\n",
      "+--------------------------------------------------+-----------------+\n",
      "|               The Handmaid's Tale                | Margaret Atwood |\n",
      "+--------------------------------------------------+-----------------+\n",
      "|                 Brave New World                  |  Aldous Huxley  |\n",
      "+--------------------------------------------------+-----------------+\n",
      "| The Vampire Lestat (Vampire Chronicles, Book II) |    ANNE RICE    |\n",
      "+--------------------------------------------------+-----------------+\n"
     ]
    }
   ],
   "source": [
    "table = Texttable()\n",
    "table.set_cols_align([\"c\", \"c\"])\n",
    "table.header([\"Title\", \"Author\"])\n",
    "for book in recommended_books:\n",
    "    table.add_row([book['Title'], book['Author']])\n",
    "print(f\"Recommended books for '{selected_book}':\")\n",
    "print(table.draw())"
   ]
  },
  {
   "cell_type": "markdown",
   "metadata": {},
   "source": [
    "### Function to collect user feedback on recommended books"
   ]
  },
  {
   "cell_type": "code",
   "execution_count": 36,
   "metadata": {
    "execution": {
     "iopub.execute_input": "2024-05-08T05:23:27.433091Z",
     "iopub.status.busy": "2024-05-08T05:23:27.432653Z",
     "iopub.status.idle": "2024-05-08T05:23:27.438767Z",
     "shell.execute_reply": "2024-05-08T05:23:27.437875Z",
     "shell.execute_reply.started": "2024-05-08T05:23:27.433058Z"
    }
   },
   "outputs": [],
   "source": [
    "def collect_feedback(recommended_books):\n",
    "    feedback = {}\n",
    "    print(\"Please provide your feedback on the recommended books (1-5 scale, 5 being the best):\")\n",
    "    for book in recommended_books:\n",
    "        score = input(f\"How do you rate '{book['Title']}' by {book['Author']}? \")\n",
    "        feedback[book['Title']] = int(score)\n",
    "    return feedback"
   ]
  },
  {
   "cell_type": "markdown",
   "metadata": {},
   "source": [
    "### Function to update the user's preferences based on feedback"
   ]
  },
  {
   "cell_type": "code",
   "execution_count": 37,
   "metadata": {
    "execution": {
     "iopub.execute_input": "2024-05-08T05:24:43.555200Z",
     "iopub.status.busy": "2024-05-08T05:24:43.554774Z",
     "iopub.status.idle": "2024-05-08T05:24:43.563123Z",
     "shell.execute_reply": "2024-05-08T05:24:43.561574Z",
     "shell.execute_reply.started": "2024-05-08T05:24:43.555168Z"
    }
   },
   "outputs": [],
   "source": [
    "def update_preferences(user_preferences, feedback):\n",
    "    for title, score in feedback.items():\n",
    "        if score > 3: #Score above 3 is positive\n",
    "            user_preferences['liked_books'].add(title)\n",
    "        elif score < 3: #Score below 3 is negative\n",
    "            user_preferences['disliked_books'].add(title)\n",
    "    return user_preferences"
   ]
  },
  {
   "cell_type": "markdown",
   "metadata": {},
   "source": [
    "### Function to refine recommendations based on updated preferences"
   ]
  },
  {
   "cell_type": "code",
   "execution_count": 38,
   "metadata": {
    "execution": {
     "iopub.execute_input": "2024-05-08T05:25:15.292234Z",
     "iopub.status.busy": "2024-05-08T05:25:15.291835Z",
     "iopub.status.idle": "2024-05-08T05:25:15.299009Z",
     "shell.execute_reply": "2024-05-08T05:25:15.297528Z",
     "shell.execute_reply.started": "2024-05-08T05:25:15.292203Z"
    }
   },
   "outputs": [],
   "source": [
    "def refine_recommendations(recommended_books, user_preferences):\n",
    "    refined_recommendations = []\n",
    "    for book in recommended_books:\n",
    "        if book['Title'] not in user_preferences['disliked_books']:\n",
    "            refined_recommendations.append(book)\n",
    "    return refined_recommendations"
   ]
  },
  {
   "cell_type": "code",
   "execution_count": 39,
   "metadata": {
    "execution": {
     "iopub.execute_input": "2024-05-08T05:25:36.580699Z",
     "iopub.status.busy": "2024-05-08T05:25:36.579508Z",
     "iopub.status.idle": "2024-05-08T05:25:36.586283Z",
     "shell.execute_reply": "2024-05-08T05:25:36.584816Z",
     "shell.execute_reply.started": "2024-05-08T05:25:36.580659Z"
    }
   },
   "outputs": [],
   "source": [
    "user_preferences = {\n",
    "    'liked_books': set(),\n",
    "    'disliked_books': set()\n",
    "}"
   ]
  },
  {
   "cell_type": "markdown",
   "metadata": {},
   "source": [
    "### Assuming 'recommended_books' is a list of books recommended previously"
   ]
  },
  {
   "cell_type": "code",
   "execution_count": 40,
   "metadata": {
    "execution": {
     "iopub.execute_input": "2024-05-08T05:26:26.643011Z",
     "iopub.status.busy": "2024-05-08T05:26:26.642587Z",
     "iopub.status.idle": "2024-05-08T05:26:39.302383Z",
     "shell.execute_reply": "2024-05-08T05:26:39.300796Z",
     "shell.execute_reply.started": "2024-05-08T05:26:26.642978Z"
    }
   },
   "outputs": [
    {
     "name": "stdout",
     "output_type": "stream",
     "text": [
      "Please provide your feedback on the recommended books (1-5 scale, 5 being the best):\n"
     ]
    },
    {
     "name": "stdin",
     "output_type": "stream",
     "text": [
      "How do you rate 'Animal Farm' by George Orwell?  3\n",
      "How do you rate 'The Handmaid's Tale' by Margaret Atwood?  4\n",
      "How do you rate 'Brave New World' by Aldous Huxley?  5\n",
      "How do you rate 'The Vampire Lestat (Vampire Chronicles, Book II)' by ANNE RICE?  2\n"
     ]
    }
   ],
   "source": [
    "feedback = collect_feedback(recommended_books)\n",
    "user_preferences = update_preferences(user_preferences, feedback)\n",
    "refined_recommendations = refine_recommendations(recommended_books, user_preferences)"
   ]
  },
  {
   "cell_type": "markdown",
   "metadata": {},
   "source": [
    "### Display refined recommendations"
   ]
  },
  {
   "cell_type": "code",
   "execution_count": 41,
   "metadata": {
    "execution": {
     "iopub.execute_input": "2024-05-08T05:27:04.795870Z",
     "iopub.status.busy": "2024-05-08T05:27:04.795397Z",
     "iopub.status.idle": "2024-05-08T05:27:04.803884Z",
     "shell.execute_reply": "2024-05-08T05:27:04.802219Z",
     "shell.execute_reply.started": "2024-05-08T05:27:04.795833Z"
    }
   },
   "outputs": [
    {
     "name": "stdout",
     "output_type": "stream",
     "text": [
      "Refined Recommendations based on your feedback:\n",
      "Animal Farm by George Orwell\n",
      "The Handmaid's Tale by Margaret Atwood\n",
      "Brave New World by Aldous Huxley\n"
     ]
    }
   ],
   "source": [
    "print(\"Refined Recommendations based on your feedback:\")\n",
    "for book in refined_recommendations:\n",
    "    print(f\"{book['Title']} by {book['Author']}\")"
   ]
  }
 ],
 "metadata": {
  "kaggle": {
   "accelerator": "none",
   "dataSources": [
    {
     "datasetId": 1004280,
     "sourceId": 7595263,
     "sourceType": "datasetVersion"
    }
   ],
   "dockerImageVersionId": 30698,
   "isGpuEnabled": false,
   "isInternetEnabled": true,
   "language": "python",
   "sourceType": "notebook"
  },
  "kernelspec": {
   "display_name": "Python 3 (ipykernel)",
   "language": "python",
   "name": "python3"
  },
  "language_info": {
   "codemirror_mode": {
    "name": "ipython",
    "version": 3
   },
   "file_extension": ".py",
   "mimetype": "text/x-python",
   "name": "python",
   "nbconvert_exporter": "python",
   "pygments_lexer": "ipython3",
   "version": "3.11.5"
  }
 },
 "nbformat": 4,
 "nbformat_minor": 4
}
